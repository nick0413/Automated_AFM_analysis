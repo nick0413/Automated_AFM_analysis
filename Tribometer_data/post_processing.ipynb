{
 "cells": [
  {
   "cell_type": "code",
   "execution_count": 1,
   "metadata": {},
   "outputs": [
    {
     "name": "stdout",
     "output_type": "stream",
     "text": [
      " Found 24 files in C:\\Users\\alber\\Summer Research Code\\Automated_AFM_analysis\\Tribometer_data\\New_Greases\\L750-C20A\n"
     ]
    },
    {
     "data": {
      "application/vnd.jupyter.widget-view+json": {
       "model_id": "34d197d84f844616b79054aaffe8c217",
       "version_major": 2,
       "version_minor": 0
      },
      "text/plain": [
       "Output()"
      ]
     },
     "metadata": {},
     "output_type": "display_data"
    },
    {
     "data": {
      "application/vnd.jupyter.widget-view+json": {
       "model_id": "ccf37aa60c874c98a3a0e2f9b54579c9",
       "version_major": 2,
       "version_minor": 0
      },
      "text/plain": [
       "Button(description='Submit', style=ButtonStyle())"
      ]
     },
     "metadata": {},
     "output_type": "display_data"
    },
    {
     "data": {
      "application/vnd.jupyter.widget-view+json": {
       "model_id": "09d308687c034d16acded88ad66796da",
       "version_major": 2,
       "version_minor": 0
      },
      "text/plain": [
       "FigureWidget({\n",
       "    'data': [{'name': '10-OA+L750+C20A_10N_100mms_2024.08.06.test7',\n",
       "              'type': 'scatter',\n",
       "              'uid': '34560203-b4a3-4ab9-a96d-90d677fc0835',\n",
       "              'x': array([   0,    1,    2, ..., 2997, 2998, 2999]),\n",
       "              'y': array([0.11913976, 0.11911187, 0.11908393, ..., 0.15380092, 0.15388995,\n",
       "                          0.15398161])},\n",
       "             {'name': '10-OA+L750+C20A_10N_100mms_2024.08.06.test8',\n",
       "              'type': 'scatter',\n",
       "              'uid': 'd113369c-6474-4a77-a253-ccd252043506',\n",
       "              'x': array([   0,    1,    2, ..., 2997, 2998, 2999]),\n",
       "              'y': array([0.12557503, 0.12535085, 0.12512826, ..., 0.127636  , 0.12749411,\n",
       "                          0.12735235])},\n",
       "             {'name': '10-OA+L750+C20A_10N_100mms_2024.08.06.test9',\n",
       "              'type': 'scatter',\n",
       "              'uid': '50ffee47-b108-4caf-b535-d04ab83baddc',\n",
       "              'x': array([   0,    1,    2, ..., 2997, 2998, 2999]),\n",
       "              'y': array([0.1075678 , 0.10791855, 0.10826396, ..., 0.15183276, 0.15178513,\n",
       "                          0.15173697])}],\n",
       "    'layout': {'template': '...'}\n",
       "})"
      ]
     },
     "metadata": {},
     "output_type": "display_data"
    },
    {
     "data": {
      "application/vnd.jupyter.widget-view+json": {
       "model_id": "34d197d84f844616b79054aaffe8c217",
       "version_major": 2,
       "version_minor": 0
      },
      "text/plain": [
       "Output()"
      ]
     },
     "metadata": {},
     "output_type": "display_data"
    },
    {
     "data": {
      "application/vnd.jupyter.widget-view+json": {
       "model_id": "1aeb1f95a29f453a8865d9dc522c0ecd",
       "version_major": 2,
       "version_minor": 0
      },
      "text/plain": [
       "Button(description='Submit', style=ButtonStyle())"
      ]
     },
     "metadata": {},
     "output_type": "display_data"
    },
    {
     "data": {
      "application/vnd.jupyter.widget-view+json": {
       "model_id": "3b265aefdc1d4ff392ecadd9c4928062",
       "version_major": 2,
       "version_minor": 0
      },
      "text/plain": [
       "FigureWidget({\n",
       "    'data': [{'name': '10-OA+L750+C20A_10N_20mms_2024.08.07.test10',\n",
       "              'type': 'scatter',\n",
       "              'uid': '3faec16d-0b1f-4711-a095-a562eccca3dc',\n",
       "              'x': array([   0,    1,    2, ..., 2997, 2998, 2999]),\n",
       "              'y': array([0.15431157, 0.15364803, 0.15299244, ..., 0.12551103, 0.12564228,\n",
       "                          0.12577528])},\n",
       "             {'name': '10-OA+L750+C20A_10N_20mms_2024.08.07.test11',\n",
       "              'type': 'scatter',\n",
       "              'uid': '0f7eab62-be8b-41cd-9d86-22f53c12ab11',\n",
       "              'x': array([   0,    1,    2, ..., 2997, 2998, 2999]),\n",
       "              'y': array([0.1460734 , 0.14573528, 0.14539813, ..., 0.10156153, 0.1012796 ,\n",
       "                          0.10099306])},\n",
       "             {'name': '10-OA+L750+C20A_10N_20mms_2024.08.07.test12',\n",
       "              'type': 'scatter',\n",
       "              'uid': '9d65ce35-6fc4-4c2f-911c-67ef42552ae5',\n",
       "              'x': array([   0,    1,    2, ..., 2997, 2998, 2999]),\n",
       "              'y': array([0.14054428, 0.14028585, 0.14003054, ..., 0.11077525, 0.1107259 ,\n",
       "                          0.11067577])}],\n",
       "    'layout': {'template': '...'}\n",
       "})"
      ]
     },
     "metadata": {},
     "output_type": "display_data"
    },
    {
     "data": {
      "application/vnd.jupyter.widget-view+json": {
       "model_id": "34d197d84f844616b79054aaffe8c217",
       "version_major": 2,
       "version_minor": 0
      },
      "text/plain": [
       "Output()"
      ]
     },
     "metadata": {},
     "output_type": "display_data"
    },
    {
     "data": {
      "application/vnd.jupyter.widget-view+json": {
       "model_id": "609b2e6e029a4040a9ada65b6443f55a",
       "version_major": 2,
       "version_minor": 0
      },
      "text/plain": [
       "Button(description='Submit', style=ButtonStyle())"
      ]
     },
     "metadata": {},
     "output_type": "display_data"
    },
    {
     "data": {
      "application/vnd.jupyter.widget-view+json": {
       "model_id": "3eefb3042ad84669a2e51d4e7d381091",
       "version_major": 2,
       "version_minor": 0
      },
      "text/plain": [
       "FigureWidget({\n",
       "    'data': [{'name': '10-OA+L750+C20A_20N_100mms_2024.08.02.test4',\n",
       "              'type': 'scatter',\n",
       "              'uid': '46acf076-3b00-414f-8053-1566ae04f67d',\n",
       "              'x': array([   0,    1,    2, ..., 2997, 2998, 2999]),\n",
       "              'y': array([0.13626202, 0.13556116, 0.13488171, ..., 0.17522147, 0.17534053,\n",
       "                          0.17546259])},\n",
       "             {'name': '10-OA+L750+C20A_20N_100mms_2024.08.02.test5',\n",
       "              'type': 'scatter',\n",
       "              'uid': '46aac845-5b0c-4481-930d-06e78f9cdea2',\n",
       "              'x': array([   0,    1,    2, ..., 2997, 2998, 2999]),\n",
       "              'y': array([0.13705181, 0.13648994, 0.13595174, ..., 0.19832348, 0.1984835 ,\n",
       "                          0.19864669])},\n",
       "             {'name': '10-OA+L750+C20A_20N_100mms_2024.08.06.test6',\n",
       "              'type': 'scatter',\n",
       "              'uid': '36411fac-7dcc-4d44-a827-3c2514f4fd61',\n",
       "              'x': array([   0,    1,    2, ..., 2997, 2998, 2999]),\n",
       "              'y': array([0.14158491, 0.14157088, 0.14155505, ..., 0.18331084, 0.18320401,\n",
       "                          0.18309431])}],\n",
       "    'layout': {'template': '...'}\n",
       "})"
      ]
     },
     "metadata": {},
     "output_type": "display_data"
    },
    {
     "data": {
      "application/vnd.jupyter.widget-view+json": {
       "model_id": "34d197d84f844616b79054aaffe8c217",
       "version_major": 2,
       "version_minor": 0
      },
      "text/plain": [
       "Output()"
      ]
     },
     "metadata": {},
     "output_type": "display_data"
    },
    {
     "data": {
      "application/vnd.jupyter.widget-view+json": {
       "model_id": "55d837b8586c44348219444ea4c2d17d",
       "version_major": 2,
       "version_minor": 0
      },
      "text/plain": [
       "Button(description='Submit', style=ButtonStyle())"
      ]
     },
     "metadata": {},
     "output_type": "display_data"
    },
    {
     "data": {
      "application/vnd.jupyter.widget-view+json": {
       "model_id": "689ea4673a9845afbd005e35f2af5512",
       "version_major": 2,
       "version_minor": 0
      },
      "text/plain": [
       "FigureWidget({\n",
       "    'data': [{'name': '10-OA+L750+C20A_20N_20mms_2024.07.31.test1',\n",
       "              'type': 'scatter',\n",
       "              'uid': '7cfbb495-d450-419d-bfe6-421e183181d7',\n",
       "              'x': array([   0,    1,    2, ..., 2997, 2998, 2999]),\n",
       "              'y': array([0.14109495, 0.14116049, 0.14122572, ..., 0.17854829, 0.17861559,\n",
       "                          0.17868405])},\n",
       "             {'name': '10-OA+L750+C20A_20N_20mms_2024.07.31.test2',\n",
       "              'type': 'scatter',\n",
       "              'uid': '9172e46f-96ea-41c7-95f9-b940de59771b',\n",
       "              'x': array([   0,    1,    2, ..., 2997, 2998, 2999]),\n",
       "              'y': array([0.13412155, 0.13445725, 0.13478853, ..., 0.17143419, 0.17147065,\n",
       "                          0.17150754])},\n",
       "             {'name': '10-OA+L750+C20A_20N_20mms_2024.08.01.test3',\n",
       "              'type': 'scatter',\n",
       "              'uid': '01a2dfbb-69c5-4291-8cab-e2b10bd5305b',\n",
       "              'x': array([   0,    1,    2, ..., 2997, 2998, 2999]),\n",
       "              'y': array([0.15714948, 0.15673046, 0.15631666, ..., 0.16459914, 0.16455223,\n",
       "                          0.164504  ])}],\n",
       "    'layout': {'template': '...'}\n",
       "})"
      ]
     },
     "metadata": {},
     "output_type": "display_data"
    },
    {
     "data": {
      "application/vnd.jupyter.widget-view+json": {
       "model_id": "34d197d84f844616b79054aaffe8c217",
       "version_major": 2,
       "version_minor": 0
      },
      "text/plain": [
       "Output()"
      ]
     },
     "metadata": {},
     "output_type": "display_data"
    },
    {
     "data": {
      "application/vnd.jupyter.widget-view+json": {
       "model_id": "1e3c70944c37456cbdac325cacc9bf02",
       "version_major": 2,
       "version_minor": 0
      },
      "text/plain": [
       "Button(description='Submit', style=ButtonStyle())"
      ]
     },
     "metadata": {},
     "output_type": "display_data"
    },
    {
     "data": {
      "application/vnd.jupyter.widget-view+json": {
       "model_id": "e35053b95b864a0cabc52c3dfdc2f90a",
       "version_major": 2,
       "version_minor": 0
      },
      "text/plain": [
       "FigureWidget({\n",
       "    'data': [{'name': '10-toluene+L750+C20A_10N_100mms_2024.07.30.test10',\n",
       "              'type': 'scatter',\n",
       "              'uid': 'accc84e5-53de-49d2-9811-7ccab907880e',\n",
       "              'x': array([   0,    1,    2, ..., 2997, 2998, 2999]),\n",
       "              'y': array([0.14401498, 0.14395272, 0.14388733, ..., 0.10744917, 0.10733243,\n",
       "                          0.10721301])},\n",
       "             {'name': '10-toluene+L750+C20A_10N_100mms_2024.07.30.test11',\n",
       "              'type': 'scatter',\n",
       "              'uid': '4a7d1fbf-8186-4fb9-89ba-52108188939e',\n",
       "              'x': array([   0,    1,    2, ..., 2997, 2998, 2999]),\n",
       "              'y': array([0.10688256, 0.10705383, 0.10722156, ..., 0.09735166, 0.09734459,\n",
       "                          0.0973374 ])},\n",
       "             {'name': '10-toluene+L750+C20A_10N_100mms_2024.07.30.test12',\n",
       "              'type': 'scatter',\n",
       "              'uid': '65f57acb-bc6c-4ccc-8f42-63c38b93c64a',\n",
       "              'x': array([   0,    1,    2, ..., 2997, 2998, 2999]),\n",
       "              'y': array([0.10520171, 0.10537439, 0.10554526, ..., 0.11419116, 0.11417291,\n",
       "                          0.11415474])}],\n",
       "    'layout': {'template': '...'}\n",
       "})"
      ]
     },
     "metadata": {},
     "output_type": "display_data"
    },
    {
     "data": {
      "application/vnd.jupyter.widget-view+json": {
       "model_id": "34d197d84f844616b79054aaffe8c217",
       "version_major": 2,
       "version_minor": 0
      },
      "text/plain": [
       "Output()"
      ]
     },
     "metadata": {},
     "output_type": "display_data"
    },
    {
     "data": {
      "application/vnd.jupyter.widget-view+json": {
       "model_id": "964e18569ff54d3e9f5e402e5800b9e9",
       "version_major": 2,
       "version_minor": 0
      },
      "text/plain": [
       "Button(description='Submit', style=ButtonStyle())"
      ]
     },
     "metadata": {},
     "output_type": "display_data"
    },
    {
     "data": {
      "application/vnd.jupyter.widget-view+json": {
       "model_id": "62d35ebe8a2941d598f43286addfbccd",
       "version_major": 2,
       "version_minor": 0
      },
      "text/plain": [
       "FigureWidget({\n",
       "    'data': [{'name': '10-toluene+L750+C20A_10N_20mms_2024.07.29.test7',\n",
       "              'type': 'scatter',\n",
       "              'uid': '55ee93ba-c84c-4eab-b929-b1e759bf2f81',\n",
       "              'x': array([   0,    1,    2, ..., 2997, 2998, 2999]),\n",
       "              'y': array([0.16590975, 0.16544124, 0.16497855, ..., 0.10910766, 0.10936726,\n",
       "                          0.10963216])},\n",
       "             {'name': '10-toluene+L750+C20A_10N_20mms_2024.07.29.test8',\n",
       "              'type': 'scatter',\n",
       "              'uid': '86351b02-b547-4088-8650-ebd54b3a476f',\n",
       "              'x': array([   0,    1,    2, ..., 2997, 2998, 2999]),\n",
       "              'y': array([0.13924949, 0.13901546, 0.13878113, ..., 0.12098856, 0.12139208,\n",
       "                          0.121804  ])},\n",
       "             {'name': '10-toluene+L750+C20A_10N_20mms_2024.07.29.test9',\n",
       "              'type': 'scatter',\n",
       "              'uid': '4b50424c-7b44-4f78-9eb6-fc7b82e1d708',\n",
       "              'x': array([   0,    1,    2, ..., 2997, 2998, 2999]),\n",
       "              'y': array([0.11443284, 0.11501965, 0.11559604, ..., 0.11662356, 0.1166777 ,\n",
       "                          0.1167343 ])}],\n",
       "    'layout': {'template': '...'}\n",
       "})"
      ]
     },
     "metadata": {},
     "output_type": "display_data"
    },
    {
     "data": {
      "application/vnd.jupyter.widget-view+json": {
       "model_id": "34d197d84f844616b79054aaffe8c217",
       "version_major": 2,
       "version_minor": 0
      },
      "text/plain": [
       "Output()"
      ]
     },
     "metadata": {},
     "output_type": "display_data"
    },
    {
     "data": {
      "application/vnd.jupyter.widget-view+json": {
       "model_id": "66e7e9b1e0f9455bbcad6c1698fc7071",
       "version_major": 2,
       "version_minor": 0
      },
      "text/plain": [
       "Button(description='Submit', style=ButtonStyle())"
      ]
     },
     "metadata": {},
     "output_type": "display_data"
    },
    {
     "data": {
      "application/vnd.jupyter.widget-view+json": {
       "model_id": "67e80da8aafc4c3884a9042f2ebec5c6",
       "version_major": 2,
       "version_minor": 0
      },
      "text/plain": [
       "FigureWidget({\n",
       "    'data': [{'name': '10-toluene+L750+C20A_20N_100mms_2024.07.26.test4',\n",
       "              'type': 'scatter',\n",
       "              'uid': 'e5e7aa71-8007-475f-8f71-b7ed3875827a',\n",
       "              'x': array([   0,    1,    2, ..., 2997, 2998, 2999]),\n",
       "              'y': array([0.11433616, 0.11461426, 0.11489624, ..., 0.14958263, 0.14968473,\n",
       "                          0.14978839])},\n",
       "             {'name': '10-toluene+L750+C20A_20N_100mms_2024.07.26.test5',\n",
       "              'type': 'scatter',\n",
       "              'uid': 'ec4d968e-0efc-46ce-99c6-20766f91e865',\n",
       "              'x': array([   0,    1,    2, ..., 2997, 2998, 2999]),\n",
       "              'y': array([0.11470296, 0.11427714, 0.11385799, ..., 0.13817119, 0.1382131 ,\n",
       "                          0.13825597])},\n",
       "             {'name': '10-toluene+L750+C20A_20N_100mms_2024.07.26.test6',\n",
       "              'type': 'scatter',\n",
       "              'uid': 'fce18756-23cf-4b99-aed6-26af45d5f8ca',\n",
       "              'x': array([   0,    1,    2, ..., 2997, 2998, 2999]),\n",
       "              'y': array([0.11271356, 0.11315056, 0.11358685, ..., 0.23321526, 0.23332857,\n",
       "                          0.23344491])}],\n",
       "    'layout': {'template': '...'}\n",
       "})"
      ]
     },
     "metadata": {},
     "output_type": "display_data"
    },
    {
     "data": {
      "application/vnd.jupyter.widget-view+json": {
       "model_id": "34d197d84f844616b79054aaffe8c217",
       "version_major": 2,
       "version_minor": 0
      },
      "text/plain": [
       "Output()"
      ]
     },
     "metadata": {},
     "output_type": "display_data"
    },
    {
     "data": {
      "application/vnd.jupyter.widget-view+json": {
       "model_id": "d5ecdcb37c034b2eaf291cbed5e7e05c",
       "version_major": 2,
       "version_minor": 0
      },
      "text/plain": [
       "Button(description='Submit', style=ButtonStyle())"
      ]
     },
     "metadata": {},
     "output_type": "display_data"
    },
    {
     "data": {
      "application/vnd.jupyter.widget-view+json": {
       "model_id": "2441804079b44b53a60fdb5c33a8b848",
       "version_major": 2,
       "version_minor": 0
      },
      "text/plain": [
       "FigureWidget({\n",
       "    'data': [{'name': '10-toluene+L750+C20A_20N_20mms_2024.07.25.test1',\n",
       "              'type': 'scatter',\n",
       "              'uid': '0f8cb2ec-92fc-45a3-8f4b-383fd3fd0cf6',\n",
       "              'x': array([   0,    1,    2, ..., 2997, 2998, 2999]),\n",
       "              'y': array([0.11639995, 0.11610624, 0.11581674, ..., 0.10929023, 0.10931954,\n",
       "                          0.10934899])},\n",
       "             {'name': '10-toluene+L750+C20A_20N_20mms_2024.07.25.test2',\n",
       "              'type': 'scatter',\n",
       "              'uid': '2d825342-b3a7-452c-a048-5cbf1ce3f3fe',\n",
       "              'x': array([   0,    1,    2, ..., 2997, 2998, 2999]),\n",
       "              'y': array([0.11431231, 0.11408126, 0.11385494, ..., 0.12061414, 0.12058695,\n",
       "                          0.12055854])},\n",
       "             {'name': '10-toluene+L750+C20A_20N_20mms_2024.07.25.test3',\n",
       "              'type': 'scatter',\n",
       "              'uid': '772b0751-92cd-47cc-9e92-1a6b8081047b',\n",
       "              'x': array([   0,    1,    2, ..., 2997, 2998, 2999]),\n",
       "              'y': array([0.11246498, 0.1123841 , 0.11230486, ..., 0.12272735, 0.12264025,\n",
       "                          0.12254981])}],\n",
       "    'layout': {'template': '...'}\n",
       "})"
      ]
     },
     "metadata": {},
     "output_type": "display_data"
    },
    {
     "data": {
      "text/plain": [
       "[]"
      ]
     },
     "execution_count": 1,
     "metadata": {},
     "output_type": "execute_result"
    }
   ],
   "source": [
    "import tribo as tb\n",
    "import numpy as np\n",
    "import os \n",
    "import re\n",
    "import pandas as pd\n",
    "\n",
    "from tribo import Tribo_file\n",
    "\n",
    "# outlier_tests = {'OA_Project_Tests_CoF':['20wt_C20A2wtOA_10N_100mms_Test11', \\\n",
    "#                        '20wt_C20A_20N_100mms_Test2', \\\n",
    "#                         '20wt_C20A_20N_20mms_Test8', \\\n",
    "#                         '20wt_C20A2wtOA_20N_20mms_Test7', \\\n",
    "# \t\t\t\t\t\t'100-TOCN_10N_20mms_Test7', \\\n",
    "# \t\t\t\t\t\t'100-TOCN_20N_20mms_Test10'], \\\n",
    "            \n",
    "#             'PAO_IL_ZDDP_CoF': ['0_OA0_20N_100mms_test2', \\\n",
    "#                                 '1_IL_20N_100mms_Test5', \\\n",
    "#                                 '1_IL_20N_20mms_Test2', \\\n",
    "#                                 '1_IL_20N_20mms_Test1']}\n",
    "\n",
    "folder = 'C:\\\\Users\\\\alber\\\\Summer Research Code\\\\Automated_AFM_analysis\\\\Tribometer_data\\\\New_Greases\\\\L750-C20A'\n",
    "\n",
    "files_in_folder = os.listdir(folder)\n",
    "print(f\" Found {len(files_in_folder)} files in {folder}\")\n",
    "\n",
    "\n",
    "Tribo_files_list, complete_CoF_2 = tb.load_files(files_in_folder,folder)\n",
    "sg_smoothing_array=tb.smoothing_df(complete_CoF_2)\n",
    "\n",
    "outliers=[]\n",
    "\n",
    "tb.plot_selector(sg_smoothing_array, folder,outliers)\n",
    "\t\t"
   ]
  },
  {
   "cell_type": "code",
   "execution_count": 2,
   "metadata": {},
   "outputs": [
    {
     "name": "stdout",
     "output_type": "stream",
     "text": [
      "Final Outlier tests: ['10-OA+L750+C20A_10N_20mms_2024.08.07.test10', '10-OA+L750+C20A_20N_100mms_2024.08.06.test6', '10-toluene+L750+C20A_20N_100mms_2024.07.26.test6']\n",
      "speed sheet\n",
      "                  Name   CoF_avg   CoF_std   Speed Percent Force    Test\n",
      "0        OA+L750+C20A  0.159870  0.021834  100mms      10   10N   test7\n",
      "1        OA+L750+C20A  0.167084  0.021331  100mms      10   10N   test8\n",
      "2        OA+L750+C20A  0.155132  0.013440  100mms      10   10N   test9\n",
      "5        OA+L750+C20A  0.206192  0.027390  100mms      10   20N   test4\n",
      "6        OA+L750+C20A  0.233916  0.037098  100mms      10   20N   test5\n",
      "10  toluene+L750+C20A  0.114073  0.023701  100mms      10   10N  test10\n",
      "11  toluene+L750+C20A  0.100072  0.010691  100mms      10   10N  test11\n",
      "12  toluene+L750+C20A  0.121898  0.010624  100mms      10   10N  test12\n",
      "16  toluene+L750+C20A  0.157009  0.010998  100mms      10   20N   test4\n",
      "17  toluene+L750+C20A  0.167923  0.032860  100mms      10   20N   test5\n",
      "speed sheet\n",
      "                  Name   CoF_avg   CoF_std  Speed Percent Force    Test\n",
      "3        OA+L750+C20A  0.109442  0.011417  20mms      10   10N  test11\n",
      "4        OA+L750+C20A  0.115520  0.011835  20mms      10   10N  test12\n",
      "7        OA+L750+C20A  0.140849  0.013212  20mms      10   20N   test1\n",
      "8        OA+L750+C20A  0.153016  0.017562  20mms      10   20N   test2\n",
      "9        OA+L750+C20A  0.155337  0.023514  20mms      10   20N   test3\n",
      "13  toluene+L750+C20A  0.116047  0.018836  20mms      10   10N   test7\n",
      "14  toluene+L750+C20A  0.116281  0.013687  20mms      10   10N   test8\n",
      "15  toluene+L750+C20A  0.120797  0.015438  20mms      10   10N   test9\n",
      "18  toluene+L750+C20A  0.108413  0.006943  20mms      10   20N   test1\n",
      "19  toluene+L750+C20A  0.115636  0.007983  20mms      10   20N   test2\n",
      "20  toluene+L750+C20A  0.122464  0.009900  20mms      10   20N   test3\n",
      "----------OA+L750+C20A\t10N------------\n",
      "----------OA+L750+C20A\t20N------------\n",
      "----------toluene+L750+C20A\t10N------------\n",
      "----------toluene+L750+C20A\t20N------------\n",
      "100mms\n",
      "----------OA+L750+C20A\t10N------------\n",
      "----------OA+L750+C20A\t20N------------\n",
      "----------toluene+L750+C20A\t10N------------\n",
      "----------toluene+L750+C20A\t20N------------\n",
      "20mms\n"
     ]
    }
   ],
   "source": [
    "print(f'Final Outlier tests: {outliers}')\n",
    "outliers_df = pd.DataFrame({'Selected Outliers':outliers})\n",
    "Tribo_files_list, complete_CoF_2 = tb.load_files(files_in_folder,folder,outlier_tests=outliers)\n",
    "\n",
    "sg_smoothing_array=tb.smoothing_df(complete_CoF_2)\n",
    "speeds_list, names_list = tb.get_speeds_and_names_in_folder(files_in_folder,Tribo_files_list)\n",
    "\n",
    "rows=tb.remove_outliers(Tribo_files_list)\n",
    "df = pd.DataFrame(rows,columns=['Name','CoF_avg','CoF_std','Speed','Percent','Force','Test'])\n",
    "speed_sheets_list=tb.sort_dfs_by_speed(speeds_list,df)\n",
    "\n",
    "\n",
    "tb.export_excel_results(speed_sheets_list,speeds_list,sg_smoothing_array,folder,complete_CoF_2,verbose=True, outlier_df=outliers_df)\t"
   ]
  },
  {
   "cell_type": "code",
   "execution_count": 3,
   "metadata": {},
   "outputs": [
    {
     "data": {
      "application/vnd.jupyter.widget-view+json": {
       "model_id": "de85dcaca2a34d87830baa038d0780db",
       "version_major": 2,
       "version_minor": 0
      },
      "text/plain": [
       "Output()"
      ]
     },
     "metadata": {},
     "output_type": "display_data"
    },
    {
     "data": {
      "application/vnd.jupyter.widget-view+json": {
       "model_id": "7186cdf2d9104565b7d680661b3d6dea",
       "version_major": 2,
       "version_minor": 0
      },
      "text/plain": [
       "Button(description='Submit', style=ButtonStyle())"
      ]
     },
     "metadata": {},
     "output_type": "display_data"
    },
    {
     "data": {
      "application/vnd.jupyter.widget-view+json": {
       "model_id": "4661953ed1b74054b4dbf964b89d622f",
       "version_major": 2,
       "version_minor": 0
      },
      "text/plain": [
       "FigureWidget({\n",
       "    'data': [{'name': '10-OA+L750+C20A_10N_100mms_2024.08.06.test7',\n",
       "              'type': 'scatter',\n",
       "              'uid': '2980e5b4-cc8f-4258-b2f0-98ec32735381',\n",
       "              'x': array([   0,    1,    2, ..., 2997, 2998, 2999]),\n",
       "              'y': array([0.11913976, 0.11911187, 0.11908393, ..., 0.15380092, 0.15388995,\n",
       "                          0.15398161])},\n",
       "             {'name': '10-OA+L750+C20A_10N_100mms_2024.08.06.test8',\n",
       "              'type': 'scatter',\n",
       "              'uid': '307bc549-fb5c-48b2-8063-eb65b9a12ff7',\n",
       "              'x': array([   0,    1,    2, ..., 2997, 2998, 2999]),\n",
       "              'y': array([0.12557503, 0.12535085, 0.12512826, ..., 0.127636  , 0.12749411,\n",
       "                          0.12735235])},\n",
       "             {'name': '10-OA+L750+C20A_10N_100mms_2024.08.06.test9',\n",
       "              'type': 'scatter',\n",
       "              'uid': 'e7f7ef3c-56ee-4a2b-ae8b-f8687466a967',\n",
       "              'x': array([   0,    1,    2, ..., 2997, 2998, 2999]),\n",
       "              'y': array([0.1075678 , 0.10791855, 0.10826396, ..., 0.15183276, 0.15178513,\n",
       "                          0.15173697])}],\n",
       "    'layout': {'template': '...'}\n",
       "})"
      ]
     },
     "metadata": {},
     "output_type": "display_data"
    },
    {
     "data": {
      "application/vnd.jupyter.widget-view+json": {
       "model_id": "de85dcaca2a34d87830baa038d0780db",
       "version_major": 2,
       "version_minor": 0
      },
      "text/plain": [
       "Output()"
      ]
     },
     "metadata": {},
     "output_type": "display_data"
    },
    {
     "data": {
      "application/vnd.jupyter.widget-view+json": {
       "model_id": "a0ddbba0bcb34d7fa87dd8b4d2b79319",
       "version_major": 2,
       "version_minor": 0
      },
      "text/plain": [
       "Button(description='Submit', style=ButtonStyle())"
      ]
     },
     "metadata": {},
     "output_type": "display_data"
    },
    {
     "data": {
      "application/vnd.jupyter.widget-view+json": {
       "model_id": "680d981c58624b6ea39a35359d98aa41",
       "version_major": 2,
       "version_minor": 0
      },
      "text/plain": [
       "FigureWidget({\n",
       "    'data': [{'name': '10-OA+L750+C20A_10N_20mms_2024.08.07.test10',\n",
       "              'type': 'scatter',\n",
       "              'uid': 'a9ed814f-eb83-412e-8fe1-3dbe7c743120',\n",
       "              'x': array([   0,    1,    2, ..., 2997, 2998, 2999]),\n",
       "              'y': array([0.15431157, 0.15364803, 0.15299244, ..., 0.12551103, 0.12564228,\n",
       "                          0.12577528])},\n",
       "             {'name': '10-OA+L750+C20A_10N_20mms_2024.08.07.test11',\n",
       "              'type': 'scatter',\n",
       "              'uid': 'a2f0cabb-d80f-4f6c-90d2-81b729bd2f05',\n",
       "              'x': array([   0,    1,    2, ..., 2997, 2998, 2999]),\n",
       "              'y': array([0.1460734 , 0.14573528, 0.14539813, ..., 0.10156153, 0.1012796 ,\n",
       "                          0.10099306])},\n",
       "             {'name': '10-OA+L750+C20A_10N_20mms_2024.08.07.test12',\n",
       "              'type': 'scatter',\n",
       "              'uid': '6b05dbb7-068e-42f7-8569-04b780a25cbd',\n",
       "              'x': array([   0,    1,    2, ..., 2997, 2998, 2999]),\n",
       "              'y': array([0.14054428, 0.14028585, 0.14003054, ..., 0.11077525, 0.1107259 ,\n",
       "                          0.11067577])}],\n",
       "    'layout': {'template': '...'}\n",
       "})"
      ]
     },
     "metadata": {},
     "output_type": "display_data"
    },
    {
     "data": {
      "application/vnd.jupyter.widget-view+json": {
       "model_id": "de85dcaca2a34d87830baa038d0780db",
       "version_major": 2,
       "version_minor": 0
      },
      "text/plain": [
       "Output()"
      ]
     },
     "metadata": {},
     "output_type": "display_data"
    },
    {
     "data": {
      "application/vnd.jupyter.widget-view+json": {
       "model_id": "c421c94cd3d74b3eae955a61649cc765",
       "version_major": 2,
       "version_minor": 0
      },
      "text/plain": [
       "Button(description='Submit', style=ButtonStyle())"
      ]
     },
     "metadata": {},
     "output_type": "display_data"
    },
    {
     "data": {
      "application/vnd.jupyter.widget-view+json": {
       "model_id": "30e0d2b4b9f14c968c72007f545d18fd",
       "version_major": 2,
       "version_minor": 0
      },
      "text/plain": [
       "FigureWidget({\n",
       "    'data': [{'name': '10-OA+L750+C20A_20N_100mms_2024.08.02.test4',\n",
       "              'type': 'scatter',\n",
       "              'uid': 'f19fbf50-28ba-4f7a-a78e-04bdbc6634fa',\n",
       "              'x': array([   0,    1,    2, ..., 2997, 2998, 2999]),\n",
       "              'y': array([0.13626202, 0.13556116, 0.13488171, ..., 0.17522147, 0.17534053,\n",
       "                          0.17546259])},\n",
       "             {'name': '10-OA+L750+C20A_20N_100mms_2024.08.02.test5',\n",
       "              'type': 'scatter',\n",
       "              'uid': 'c738940a-8430-4bb1-b94d-c940e11ed05f',\n",
       "              'x': array([   0,    1,    2, ..., 2997, 2998, 2999]),\n",
       "              'y': array([0.13705181, 0.13648994, 0.13595174, ..., 0.19832348, 0.1984835 ,\n",
       "                          0.19864669])},\n",
       "             {'name': '10-OA+L750+C20A_20N_100mms_2024.08.06.test6',\n",
       "              'type': 'scatter',\n",
       "              'uid': '93a9d24a-c362-4faf-9864-211cc94cc7d8',\n",
       "              'x': array([   0,    1,    2, ..., 2997, 2998, 2999]),\n",
       "              'y': array([0.14158491, 0.14157088, 0.14155505, ..., 0.18331084, 0.18320401,\n",
       "                          0.18309431])}],\n",
       "    'layout': {'template': '...'}\n",
       "})"
      ]
     },
     "metadata": {},
     "output_type": "display_data"
    },
    {
     "data": {
      "application/vnd.jupyter.widget-view+json": {
       "model_id": "de85dcaca2a34d87830baa038d0780db",
       "version_major": 2,
       "version_minor": 0
      },
      "text/plain": [
       "Output()"
      ]
     },
     "metadata": {},
     "output_type": "display_data"
    },
    {
     "data": {
      "application/vnd.jupyter.widget-view+json": {
       "model_id": "59026c88d3434ef3ae01379918503463",
       "version_major": 2,
       "version_minor": 0
      },
      "text/plain": [
       "Button(description='Submit', style=ButtonStyle())"
      ]
     },
     "metadata": {},
     "output_type": "display_data"
    },
    {
     "data": {
      "application/vnd.jupyter.widget-view+json": {
       "model_id": "0a416bde756742438b2e574a81f150cc",
       "version_major": 2,
       "version_minor": 0
      },
      "text/plain": [
       "FigureWidget({\n",
       "    'data': [{'name': '10-OA+L750+C20A_20N_20mms_2024.07.31.test1',\n",
       "              'type': 'scatter',\n",
       "              'uid': '78e88a41-d832-4b12-a5d2-db7b414c6f65',\n",
       "              'x': array([   0,    1,    2, ..., 2997, 2998, 2999]),\n",
       "              'y': array([0.14109495, 0.14116049, 0.14122572, ..., 0.17854829, 0.17861559,\n",
       "                          0.17868405])},\n",
       "             {'name': '10-OA+L750+C20A_20N_20mms_2024.07.31.test2',\n",
       "              'type': 'scatter',\n",
       "              'uid': '9462cd63-0307-4ad8-acb8-7bbc1656ac90',\n",
       "              'x': array([   0,    1,    2, ..., 2997, 2998, 2999]),\n",
       "              'y': array([0.13412155, 0.13445725, 0.13478853, ..., 0.17143419, 0.17147065,\n",
       "                          0.17150754])},\n",
       "             {'name': '10-OA+L750+C20A_20N_20mms_2024.08.01.test3',\n",
       "              'type': 'scatter',\n",
       "              'uid': '28e8c3fd-d345-4b16-aae2-13a747c62c04',\n",
       "              'x': array([   0,    1,    2, ..., 2997, 2998, 2999]),\n",
       "              'y': array([0.15714948, 0.15673046, 0.15631666, ..., 0.16459914, 0.16455223,\n",
       "                          0.164504  ])}],\n",
       "    'layout': {'template': '...'}\n",
       "})"
      ]
     },
     "metadata": {},
     "output_type": "display_data"
    },
    {
     "data": {
      "application/vnd.jupyter.widget-view+json": {
       "model_id": "de85dcaca2a34d87830baa038d0780db",
       "version_major": 2,
       "version_minor": 0
      },
      "text/plain": [
       "Output()"
      ]
     },
     "metadata": {},
     "output_type": "display_data"
    },
    {
     "data": {
      "application/vnd.jupyter.widget-view+json": {
       "model_id": "4dc641ab1a044a8d9ff85774c52f0fd0",
       "version_major": 2,
       "version_minor": 0
      },
      "text/plain": [
       "Button(description='Submit', style=ButtonStyle())"
      ]
     },
     "metadata": {},
     "output_type": "display_data"
    },
    {
     "data": {
      "application/vnd.jupyter.widget-view+json": {
       "model_id": "01299165806449be9c06d476423ae0f2",
       "version_major": 2,
       "version_minor": 0
      },
      "text/plain": [
       "FigureWidget({\n",
       "    'data': [{'name': '10-toluene+L750+C20A_10N_100mms_2024.07.30.test10',\n",
       "              'type': 'scatter',\n",
       "              'uid': '03227ce5-a567-41ae-8522-409fb7a539f4',\n",
       "              'x': array([   0,    1,    2, ..., 2997, 2998, 2999]),\n",
       "              'y': array([0.14401498, 0.14395272, 0.14388733, ..., 0.10744917, 0.10733243,\n",
       "                          0.10721301])},\n",
       "             {'name': '10-toluene+L750+C20A_10N_100mms_2024.07.30.test11',\n",
       "              'type': 'scatter',\n",
       "              'uid': '92de71a8-238f-4374-a74c-ee86290fd0cd',\n",
       "              'x': array([   0,    1,    2, ..., 2997, 2998, 2999]),\n",
       "              'y': array([0.10688256, 0.10705383, 0.10722156, ..., 0.09735166, 0.09734459,\n",
       "                          0.0973374 ])},\n",
       "             {'name': '10-toluene+L750+C20A_10N_100mms_2024.07.30.test12',\n",
       "              'type': 'scatter',\n",
       "              'uid': 'c05f5039-bbd0-4347-b4a4-ffd1d0c22a4c',\n",
       "              'x': array([   0,    1,    2, ..., 2997, 2998, 2999]),\n",
       "              'y': array([0.10520171, 0.10537439, 0.10554526, ..., 0.11419116, 0.11417291,\n",
       "                          0.11415474])}],\n",
       "    'layout': {'template': '...'}\n",
       "})"
      ]
     },
     "metadata": {},
     "output_type": "display_data"
    },
    {
     "data": {
      "application/vnd.jupyter.widget-view+json": {
       "model_id": "de85dcaca2a34d87830baa038d0780db",
       "version_major": 2,
       "version_minor": 0
      },
      "text/plain": [
       "Output()"
      ]
     },
     "metadata": {},
     "output_type": "display_data"
    },
    {
     "data": {
      "application/vnd.jupyter.widget-view+json": {
       "model_id": "1ad24e43fb7d49959f8e3265ac033808",
       "version_major": 2,
       "version_minor": 0
      },
      "text/plain": [
       "Button(description='Submit', style=ButtonStyle())"
      ]
     },
     "metadata": {},
     "output_type": "display_data"
    },
    {
     "data": {
      "application/vnd.jupyter.widget-view+json": {
       "model_id": "d9a4b9a9470442e8a0e089611c5f987c",
       "version_major": 2,
       "version_minor": 0
      },
      "text/plain": [
       "FigureWidget({\n",
       "    'data': [{'name': '10-toluene+L750+C20A_10N_20mms_2024.07.29.test7',\n",
       "              'type': 'scatter',\n",
       "              'uid': '64478efc-063a-4943-98a1-d19d2843b3fe',\n",
       "              'x': array([   0,    1,    2, ..., 2997, 2998, 2999]),\n",
       "              'y': array([0.16590975, 0.16544124, 0.16497855, ..., 0.10910766, 0.10936726,\n",
       "                          0.10963216])},\n",
       "             {'name': '10-toluene+L750+C20A_10N_20mms_2024.07.29.test8',\n",
       "              'type': 'scatter',\n",
       "              'uid': '5efd6d6b-bab6-4213-aed9-da17fefe325b',\n",
       "              'x': array([   0,    1,    2, ..., 2997, 2998, 2999]),\n",
       "              'y': array([0.13924949, 0.13901546, 0.13878113, ..., 0.12098856, 0.12139208,\n",
       "                          0.121804  ])},\n",
       "             {'name': '10-toluene+L750+C20A_10N_20mms_2024.07.29.test9',\n",
       "              'type': 'scatter',\n",
       "              'uid': '4ca2c2e7-1e79-42ac-a21c-a48e90a64055',\n",
       "              'x': array([   0,    1,    2, ..., 2997, 2998, 2999]),\n",
       "              'y': array([0.11443284, 0.11501965, 0.11559604, ..., 0.11662356, 0.1166777 ,\n",
       "                          0.1167343 ])}],\n",
       "    'layout': {'template': '...'}\n",
       "})"
      ]
     },
     "metadata": {},
     "output_type": "display_data"
    },
    {
     "data": {
      "application/vnd.jupyter.widget-view+json": {
       "model_id": "de85dcaca2a34d87830baa038d0780db",
       "version_major": 2,
       "version_minor": 0
      },
      "text/plain": [
       "Output()"
      ]
     },
     "metadata": {},
     "output_type": "display_data"
    },
    {
     "data": {
      "application/vnd.jupyter.widget-view+json": {
       "model_id": "bdfc64df8990434d9543f6936bd9b612",
       "version_major": 2,
       "version_minor": 0
      },
      "text/plain": [
       "Button(description='Submit', style=ButtonStyle())"
      ]
     },
     "metadata": {},
     "output_type": "display_data"
    },
    {
     "data": {
      "application/vnd.jupyter.widget-view+json": {
       "model_id": "3208b32fc3f1477195b186480d11e7d4",
       "version_major": 2,
       "version_minor": 0
      },
      "text/plain": [
       "FigureWidget({\n",
       "    'data': [{'name': '10-toluene+L750+C20A_20N_100mms_2024.07.26.test4',\n",
       "              'type': 'scatter',\n",
       "              'uid': 'd372eb70-69e5-4ac5-8a43-2d413373107b',\n",
       "              'x': array([   0,    1,    2, ..., 2997, 2998, 2999]),\n",
       "              'y': array([0.11433616, 0.11461426, 0.11489624, ..., 0.14958263, 0.14968473,\n",
       "                          0.14978839])},\n",
       "             {'name': '10-toluene+L750+C20A_20N_100mms_2024.07.26.test5',\n",
       "              'type': 'scatter',\n",
       "              'uid': '9de78c27-a701-4956-90eb-e0b5a381a66d',\n",
       "              'x': array([   0,    1,    2, ..., 2997, 2998, 2999]),\n",
       "              'y': array([0.11470296, 0.11427714, 0.11385799, ..., 0.13817119, 0.1382131 ,\n",
       "                          0.13825597])},\n",
       "             {'name': '10-toluene+L750+C20A_20N_100mms_2024.07.26.test6',\n",
       "              'type': 'scatter',\n",
       "              'uid': 'e9e25964-ae44-4b8c-aab6-00ae62bbd381',\n",
       "              'x': array([   0,    1,    2, ..., 2997, 2998, 2999]),\n",
       "              'y': array([0.11271356, 0.11315056, 0.11358685, ..., 0.23321526, 0.23332857,\n",
       "                          0.23344491])}],\n",
       "    'layout': {'template': '...'}\n",
       "})"
      ]
     },
     "metadata": {},
     "output_type": "display_data"
    },
    {
     "data": {
      "application/vnd.jupyter.widget-view+json": {
       "model_id": "de85dcaca2a34d87830baa038d0780db",
       "version_major": 2,
       "version_minor": 0
      },
      "text/plain": [
       "Output()"
      ]
     },
     "metadata": {},
     "output_type": "display_data"
    },
    {
     "data": {
      "application/vnd.jupyter.widget-view+json": {
       "model_id": "060996de351a4690afa1aa30f5d57350",
       "version_major": 2,
       "version_minor": 0
      },
      "text/plain": [
       "Button(description='Submit', style=ButtonStyle())"
      ]
     },
     "metadata": {},
     "output_type": "display_data"
    },
    {
     "data": {
      "application/vnd.jupyter.widget-view+json": {
       "model_id": "09a1a1e972314eeabd0fe509b1c2c169",
       "version_major": 2,
       "version_minor": 0
      },
      "text/plain": [
       "FigureWidget({\n",
       "    'data': [{'name': '10-toluene+L750+C20A_20N_20mms_2024.07.25.test1',\n",
       "              'type': 'scatter',\n",
       "              'uid': '4ed20af1-df8c-45a7-993a-65a0062cc2f0',\n",
       "              'x': array([   0,    1,    2, ..., 2997, 2998, 2999]),\n",
       "              'y': array([0.11639995, 0.11610624, 0.11581674, ..., 0.10929023, 0.10931954,\n",
       "                          0.10934899])},\n",
       "             {'name': '10-toluene+L750+C20A_20N_20mms_2024.07.25.test2',\n",
       "              'type': 'scatter',\n",
       "              'uid': '852be06b-eca3-4bca-bd49-2cb5ca4828c1',\n",
       "              'x': array([   0,    1,    2, ..., 2997, 2998, 2999]),\n",
       "              'y': array([0.11431231, 0.11408126, 0.11385494, ..., 0.12061414, 0.12058695,\n",
       "                          0.12055854])},\n",
       "             {'name': '10-toluene+L750+C20A_20N_20mms_2024.07.25.test3',\n",
       "              'type': 'scatter',\n",
       "              'uid': '3c2467ea-be09-4182-8fc8-2a094a429f8d',\n",
       "              'x': array([   0,    1,    2, ..., 2997, 2998, 2999]),\n",
       "              'y': array([0.11246498, 0.1123841 , 0.11230486, ..., 0.12272735, 0.12264025,\n",
       "                          0.12254981])}],\n",
       "    'layout': {'template': '...'}\n",
       "})"
      ]
     },
     "metadata": {},
     "output_type": "display_data"
    },
    {
     "data": {
      "text/plain": [
       "[]"
      ]
     },
     "execution_count": 3,
     "metadata": {},
     "output_type": "execute_result"
    }
   ],
   "source": [
    "good_tests = []\n",
    "\n",
    "tb.plot_selector(sg_smoothing_array, folder, good_tests, 'Good Tests')\n"
   ]
  },
  {
   "cell_type": "code",
   "execution_count": null,
   "metadata": {},
   "outputs": [],
   "source": [
    "#-----------------------------------------------------------------------\n",
    "# The following is a Python Dictionary of the specific tests that were chosen to be used in the Average CoF Bar Graphs\n",
    "# avg_CoF_tests = {'OA_Project_Tests_CoF':['100-TOCN_20N_20mms_Test8', \\\n",
    "#                                          '20wt_C20A_10N_20mms_Test6', \\\n",
    "#                                          '20wt_C20A_10N_100mms_Test14', \\\n",
    "#                                          '20wt_C20A_20N_20mms_Test16new', \\\n",
    "#                                          '20wt_C20A_20N_100mms_Test12', \\\n",
    "#                                         '20wt_C20A2wtOA_10N_20mms_Test8', \\\n",
    "#                                         '20wt_C20A2wtOA_10N_100mms_Test4', \\\n",
    "#                                         '20wt_C20A2wtOA_20N_20mms_Test6', \\\n",
    "#                                         '20wt_C20A2wtOA_20N_100mms_Test17new', \\\n",
    "#                                         '100-TOCN_10N_100mms_Test12', \\\n",
    "#                                         '100-TOCN_10N_20mms_Test6', \\\n",
    "#                                         '100-TOCN_20N_100mms_Test14'], \\\n",
    "                                        \n",
    "#                  'PAO_IL_ZDDP_CoF': ['0_OA0_20N_100mms_test13', \\\n",
    "#                                      '0_OA0_20N_20mms_test1', \\\n",
    "#                                      '1-ZADP_20N_100mms_Test5', \\\n",
    "#                                      '1-ZADP_20N_20mms_Test3', \\\n",
    "#                                      '1_IL_20N_100mms_Test5', \\\n",
    "#                                      '1_IL_20N_20mms_Test4']}                      \n",
    "\n",
    "#-----------------------------------------------------------------------\n"
   ]
  },
  {
   "cell_type": "code",
   "execution_count": 4,
   "metadata": {},
   "outputs": [],
   "source": [
    "good_test_df = tb.new_output_good_tests(good_tests, folder, sg_smoothing_array) # for easier plotting of the good tests in origin"
   ]
  },
  {
   "cell_type": "code",
   "execution_count": 5,
   "metadata": {},
   "outputs": [],
   "source": [
    "tb.organize_good_tests(good_test_df, folder) # for easier plotting of the good tests in origin, requires user input"
   ]
  },
  {
   "cell_type": "code",
   "execution_count": 6,
   "metadata": {},
   "outputs": [
    {
     "name": "stdout",
     "output_type": "stream",
     "text": [
      "This block of code will reorganize the \"total\" sheet into a friction table based on the user input which will \n",
      "include percent reduction for ease of integration into origin.\n",
      "The friction tables have been successfully saved to C:\\Users\\alber\\Summer Research Code\\Automated_AFM_analysis\\Tribometer_data\\New_Greases\\L750-C20A.xlsx.\n"
     ]
    }
   ],
   "source": [
    "tb.frict_table_maker(folder) # for easier plotting of the average coefficient of friction column charts in origin\n"
   ]
  }
 ],
 "metadata": {
  "kernelspec": {
   "display_name": "Python 3",
   "language": "python",
   "name": "python3"
  },
  "language_info": {
   "codemirror_mode": {
    "name": "ipython",
    "version": 3
   },
   "file_extension": ".py",
   "mimetype": "text/x-python",
   "name": "python",
   "nbconvert_exporter": "python",
   "pygments_lexer": "ipython3",
   "version": "3.11.4"
  }
 },
 "nbformat": 4,
 "nbformat_minor": 2
}
