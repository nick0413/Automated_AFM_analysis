{
 "cells": [
  {
   "cell_type": "code",
   "execution_count": null,
   "metadata": {},
   "outputs": [],
   "source": [
    "import tribo as tb\n",
    "import numpy as np\n",
    "import os \n",
    "import re\n",
    "import pandas as pd\n",
    "\n",
    "from tribo import Tribo_file\n",
    "\n",
    "outlier_tests = {'OA_Project_Tests_CoF':['20wt_C20A2wtOA_10N_100mms_Test11', \\\n",
    "                       '20wt_C20A_20N_100mms_Test2', \\\n",
    "                        '20wt_C20A_20N_20mms_Test8', \\\n",
    "                        '20wt_C20A2wtOA_20N_20mms_Test7', \\\n",
    "\t\t\t\t\t\t'100-TOCN_10N_20mms_Test7', \\\n",
    "\t\t\t\t\t\t'100-TOCN_20N_20mms_Test10'], \\\n",
    "            \n",
    "            'PAO_IL_ZDDP_CoF': ['0_OA0_20N_100mms_test2', \\\n",
    "                                '1_IL_20N_100mms_Test5', \\\n",
    "                                '1_IL_20N_20mms_Test2', \\\n",
    "                                '1_IL_20N_20mms_Test1']}\n",
    "\n",
    "folder = 'OA_Project_Tests_CoF'\n",
    "\n",
    "files_in_folder = os.listdir(folder)\n",
    "print(f\" Found {len(files_in_folder)} files in {folder}\")\n",
    "\n",
    "\n",
    "Tribo_files_list, complete_CoF_2 = tb.load_files(files_in_folder,folder)\n",
    "sg_smoothing_array=tb.smoothing_df(complete_CoF_2)\n",
    "\n",
    "outliers=[]\n",
    "\n",
    "tb.plot_selector(sg_smoothing_array, folder,outliers)\n",
    "\t\t"
   ]
  },
  {
   "cell_type": "code",
   "execution_count": null,
   "metadata": {},
   "outputs": [],
   "source": [
    "print(f'Final Outlier tests: {outliers}')\n",
    "Tribo_files_list, complete_CoF_2 = tb.load_files(files_in_folder,folder,outlier_tests=outliers)\n",
    "\n",
    "sg_smoothing_array=tb.smoothing_df(complete_CoF_2)\n",
    "speeds_list, names_list = tb.get_speeds_and_names_in_folder(files_in_folder,Tribo_files_list)\n",
    "\n",
    "rows=tb.remove_outliers(Tribo_files_list)\n",
    "df = pd.DataFrame(rows,columns=['Name','CoF_avg','CoF_std','Speed','Percent','Force','Test'])\n",
    "speed_sheets_list=tb.sort_dfs_by_speed(speeds_list,df)\n",
    "\n",
    "\n",
    "tb.export_excel_results(speed_sheets_list,speeds_list,sg_smoothing_array,folder,complete_CoF_2,verbose=True)\t"
   ]
  },
  {
   "cell_type": "code",
   "execution_count": null,
   "metadata": {},
   "outputs": [],
   "source": [
    "#-----------------------------------------------------------------------\n",
    "# The following is a Python Dictionary of the specific tests that were chosen to be used in the Average CoF Bar Graphs\n",
    "avg_CoF_tests = {'OA_Project_Tests_CoF':['100-TOCN_20N_20mms_Test8', \\\n",
    "                                         '20wt_C20A_10N_20mms_Test6', \\\n",
    "                                         '20wt_C20A_10N_100mms_Test14', \\\n",
    "                                         '20wt_C20A_20N_20mms_Test16new', \\\n",
    "                                         '20wt_C20A_20N_100mms_Test12', \\\n",
    "                                        '20wt_C20A2wtOA_10N_20mms_Test8', \\\n",
    "                                        '20wt_C20A2wtOA_10N_100mms_Test4', \\\n",
    "                                        '20wt_C20A2wtOA_20N_20mms_Test6', \\\n",
    "                                        '20wt_C20A2wtOA_20N_100mms_Test17new', \\\n",
    "                                        '100-TOCN_10N_100mms_Test12', \\\n",
    "                                        '100-TOCN_10N_20mms_Test6', \\\n",
    "                                        '100-TOCN_20N_100mms_Test14'], \\\n",
    "                                        \n",
    "                 'PAO_IL_ZDDP_CoF': ['0_OA0_20N_100mms_test13', \\\n",
    "                                     '0_OA0_20N_20mms_test1', \\\n",
    "                                     '1-ZADP_20N_100mms_Test5', \\\n",
    "                                     '1-ZADP_20N_20mms_Test3', \\\n",
    "                                     '1_IL_20N_100mms_Test5', \\\n",
    "                                     '1_IL_20N_20mms_Test4']}                      \n",
    "\n",
    "#-----------------------------------------------------------------------\n",
    "# print(sg_smoothing_array)\n",
    "# tb.plot_combinations_of_params(sg_smoothing_array, folder)"
   ]
  },
  {
   "cell_type": "code",
   "execution_count": null,
   "metadata": {},
   "outputs": [],
   "source": [
    "tb.output_good_tests(avg_CoF_tests, folder, sg_smoothing_array)"
   ]
  },
  {
   "cell_type": "code",
   "execution_count": null,
   "metadata": {},
   "outputs": [],
   "source": [
    "# tb.frict_table_maker(folder)\n"
   ]
  }
 ],
 "metadata": {
  "kernelspec": {
   "display_name": "Python 3",
   "language": "python",
   "name": "python3"
  },
  "language_info": {
   "codemirror_mode": {
    "name": "ipython",
    "version": 3
   },
   "file_extension": ".py",
   "mimetype": "text/x-python",
   "name": "python",
   "nbconvert_exporter": "python",
   "pygments_lexer": "ipython3",
   "version": "3.10.0"
  }
 },
 "nbformat": 4,
 "nbformat_minor": 2
}
