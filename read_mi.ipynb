{
 "cells": [
  {
   "cell_type": "code",
   "execution_count": 6,
   "metadata": {},
   "outputs": [
    {
     "name": "stdout",
     "output_type": "stream",
     "text": [
      "<class 'types.SimpleNamespace'>\n"
     ]
    }
   ],
   "source": [
    "import os \n",
    "import sys\n",
    "import re \n",
    "import numpy as np\n",
    "import agilent_loader as ag\n",
    "\n",
    "\n",
    "file=ag.load_mi(\"pao6.mi\")\n",
    "print(type(file.buffers[0]))"
   ]
  }
 ],
 "metadata": {
  "kernelspec": {
   "display_name": "Python 3",
   "language": "python",
   "name": "python3"
  },
  "language_info": {
   "codemirror_mode": {
    "name": "ipython",
    "version": 3
   },
   "file_extension": ".py",
   "mimetype": "text/x-python",
   "name": "python",
   "nbconvert_exporter": "python",
   "pygments_lexer": "ipython3",
   "version": "3.10.0"
  }
 },
 "nbformat": 4,
 "nbformat_minor": 2
}
