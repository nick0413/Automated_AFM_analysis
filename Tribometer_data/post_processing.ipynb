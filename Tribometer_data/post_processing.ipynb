{
 "cells": [
  {
   "cell_type": "code",
   "execution_count": 1,
   "metadata": {},
   "outputs": [
    {
     "name": "stdout",
     "output_type": "stream",
     "text": [
      " Found 24 files in C:\\Users\\alber\\Summer Research Code\\Automated_AFM_analysis\\Tribometer_data\\New_Greases\\L750-C20A\n"
     ]
    },
    {
     "data": {
      "application/vnd.jupyter.widget-view+json": {
       "model_id": "04e39a9f84ea42f88e79ef0bf0cfdc45",
       "version_major": 2,
       "version_minor": 0
      },
      "text/plain": [
       "Output()"
      ]
     },
     "metadata": {},
     "output_type": "display_data"
    },
    {
     "data": {
      "application/vnd.jupyter.widget-view+json": {
       "model_id": "1e75c100d1034cd7b2dd27b3d5d590f2",
       "version_major": 2,
       "version_minor": 0
      },
      "text/plain": [
       "Button(description='Submit', style=ButtonStyle())"
      ]
     },
     "metadata": {},
     "output_type": "display_data"
    },
    {
     "data": {
      "application/vnd.jupyter.widget-view+json": {
       "model_id": "1b0d5c398d1c440aa4a94d245182f212",
       "version_major": 2,
       "version_minor": 0
      },
      "text/plain": [
       "FigureWidget({\n",
       "    'data': [{'name': '10-OA+L750+C20A_10N_100mms_2024.08.06.test7',\n",
       "              'type': 'scatter',\n",
       "              'uid': 'b4edb4a5-269e-4c67-9ec4-b8de0c4ac291',\n",
       "              'x': array([   0,    1,    2, ..., 2997, 2998, 2999]),\n",
       "              'y': array([0.11913976, 0.11911187, 0.11908393, ..., 0.15380092, 0.15388995,\n",
       "                          0.15398161])},\n",
       "             {'name': '10-OA+L750+C20A_10N_100mms_2024.08.06.test8',\n",
       "              'type': 'scatter',\n",
       "              'uid': 'f09d6081-12ff-4e2b-b62e-9b1fef43a4cc',\n",
       "              'x': array([   0,    1,    2, ..., 2997, 2998, 2999]),\n",
       "              'y': array([0.12557503, 0.12535085, 0.12512826, ..., 0.127636  , 0.12749411,\n",
       "                          0.12735235])},\n",
       "             {'name': '10-OA+L750+C20A_10N_100mms_2024.08.06.test9',\n",
       "              'type': 'scatter',\n",
       "              'uid': '1d5772a3-91c3-4cd7-98c9-7807b4fba1a4',\n",
       "              'x': array([   0,    1,    2, ..., 2997, 2998, 2999]),\n",
       "              'y': array([0.1075678 , 0.10791855, 0.10826396, ..., 0.15183276, 0.15178513,\n",
       "                          0.15173697])}],\n",
       "    'layout': {'template': '...'}\n",
       "})"
      ]
     },
     "metadata": {},
     "output_type": "display_data"
    },
    {
     "data": {
      "application/vnd.jupyter.widget-view+json": {
       "model_id": "04e39a9f84ea42f88e79ef0bf0cfdc45",
       "version_major": 2,
       "version_minor": 0
      },
      "text/plain": [
       "Output()"
      ]
     },
     "metadata": {},
     "output_type": "display_data"
    },
    {
     "data": {
      "application/vnd.jupyter.widget-view+json": {
       "model_id": "9689f15ed85a4b3c92ef1eca6e01c9f6",
       "version_major": 2,
       "version_minor": 0
      },
      "text/plain": [
       "Button(description='Submit', style=ButtonStyle())"
      ]
     },
     "metadata": {},
     "output_type": "display_data"
    },
    {
     "data": {
      "application/vnd.jupyter.widget-view+json": {
       "model_id": "fa2914ed954c40c0a99f8d49f60c80ea",
       "version_major": 2,
       "version_minor": 0
      },
      "text/plain": [
       "FigureWidget({\n",
       "    'data': [{'name': '10-OA+L750+C20A_10N_20mms_2024.08.07.test10',\n",
       "              'type': 'scatter',\n",
       "              'uid': '0cb436a1-04bc-4da2-986f-f85e7bf03ef6',\n",
       "              'x': array([   0,    1,    2, ..., 2997, 2998, 2999]),\n",
       "              'y': array([0.15431157, 0.15364803, 0.15299244, ..., 0.12551103, 0.12564228,\n",
       "                          0.12577528])},\n",
       "             {'name': '10-OA+L750+C20A_10N_20mms_2024.08.07.test11',\n",
       "              'type': 'scatter',\n",
       "              'uid': '440d445b-61e0-4a4a-b1d3-f40c3a236107',\n",
       "              'x': array([   0,    1,    2, ..., 2997, 2998, 2999]),\n",
       "              'y': array([0.1460734 , 0.14573528, 0.14539813, ..., 0.10156153, 0.1012796 ,\n",
       "                          0.10099306])},\n",
       "             {'name': '10-OA+L750+C20A_10N_20mms_2024.08.07.test12',\n",
       "              'type': 'scatter',\n",
       "              'uid': 'ed84cea1-99f6-4e65-b7ee-569cf3aa5a66',\n",
       "              'x': array([   0,    1,    2, ..., 2997, 2998, 2999]),\n",
       "              'y': array([0.14054428, 0.14028585, 0.14003054, ..., 0.11077525, 0.1107259 ,\n",
       "                          0.11067577])}],\n",
       "    'layout': {'template': '...'}\n",
       "})"
      ]
     },
     "metadata": {},
     "output_type": "display_data"
    },
    {
     "data": {
      "application/vnd.jupyter.widget-view+json": {
       "model_id": "04e39a9f84ea42f88e79ef0bf0cfdc45",
       "version_major": 2,
       "version_minor": 0
      },
      "text/plain": [
       "Output()"
      ]
     },
     "metadata": {},
     "output_type": "display_data"
    },
    {
     "data": {
      "application/vnd.jupyter.widget-view+json": {
       "model_id": "08c8780248df4e0da9f4a3a85e8495b6",
       "version_major": 2,
       "version_minor": 0
      },
      "text/plain": [
       "Button(description='Submit', style=ButtonStyle())"
      ]
     },
     "metadata": {},
     "output_type": "display_data"
    },
    {
     "data": {
      "application/vnd.jupyter.widget-view+json": {
       "model_id": "582d2e763a614fe0bd2344c882cbed3d",
       "version_major": 2,
       "version_minor": 0
      },
      "text/plain": [
       "FigureWidget({\n",
       "    'data': [{'name': '10-OA+L750+C20A_20N_100mms_2024.08.02.test4',\n",
       "              'type': 'scatter',\n",
       "              'uid': '0d297ac8-67ad-4a03-9153-753227c2f29b',\n",
       "              'x': array([   0,    1,    2, ..., 2997, 2998, 2999]),\n",
       "              'y': array([0.13626202, 0.13556116, 0.13488171, ..., 0.17522147, 0.17534053,\n",
       "                          0.17546259])},\n",
       "             {'name': '10-OA+L750+C20A_20N_100mms_2024.08.02.test5',\n",
       "              'type': 'scatter',\n",
       "              'uid': '1d02a28d-a764-4e88-8677-d62246b231fb',\n",
       "              'x': array([   0,    1,    2, ..., 2997, 2998, 2999]),\n",
       "              'y': array([0.13705181, 0.13648994, 0.13595174, ..., 0.19832348, 0.1984835 ,\n",
       "                          0.19864669])},\n",
       "             {'name': '10-OA+L750+C20A_20N_100mms_2024.08.06.test6',\n",
       "              'type': 'scatter',\n",
       "              'uid': '56a349c7-69f6-45a6-879b-60cd1c5eea94',\n",
       "              'x': array([   0,    1,    2, ..., 2997, 2998, 2999]),\n",
       "              'y': array([0.14158491, 0.14157088, 0.14155505, ..., 0.18331084, 0.18320401,\n",
       "                          0.18309431])}],\n",
       "    'layout': {'template': '...'}\n",
       "})"
      ]
     },
     "metadata": {},
     "output_type": "display_data"
    },
    {
     "data": {
      "application/vnd.jupyter.widget-view+json": {
       "model_id": "04e39a9f84ea42f88e79ef0bf0cfdc45",
       "version_major": 2,
       "version_minor": 0
      },
      "text/plain": [
       "Output()"
      ]
     },
     "metadata": {},
     "output_type": "display_data"
    },
    {
     "data": {
      "application/vnd.jupyter.widget-view+json": {
       "model_id": "c7afd210797d4ead9b7b8bae98adcea8",
       "version_major": 2,
       "version_minor": 0
      },
      "text/plain": [
       "Button(description='Submit', style=ButtonStyle())"
      ]
     },
     "metadata": {},
     "output_type": "display_data"
    },
    {
     "data": {
      "application/vnd.jupyter.widget-view+json": {
       "model_id": "1dbc292778884bacb7c35d9e1cccba7f",
       "version_major": 2,
       "version_minor": 0
      },
      "text/plain": [
       "FigureWidget({\n",
       "    'data': [{'name': '10-OA+L750+C20A_20N_20mms_2024.07.31.test1',\n",
       "              'type': 'scatter',\n",
       "              'uid': 'db26e9af-48b3-44af-977a-3b996117f3fe',\n",
       "              'x': array([   0,    1,    2, ..., 2997, 2998, 2999]),\n",
       "              'y': array([0.14109495, 0.14116049, 0.14122572, ..., 0.17854829, 0.17861559,\n",
       "                          0.17868405])},\n",
       "             {'name': '10-OA+L750+C20A_20N_20mms_2024.07.31.test2',\n",
       "              'type': 'scatter',\n",
       "              'uid': '1892e54c-5ad5-4aa5-8492-46db8eaea029',\n",
       "              'x': array([   0,    1,    2, ..., 2997, 2998, 2999]),\n",
       "              'y': array([0.13412155, 0.13445725, 0.13478853, ..., 0.17143419, 0.17147065,\n",
       "                          0.17150754])},\n",
       "             {'name': '10-OA+L750+C20A_20N_20mms_2024.08.01.test3',\n",
       "              'type': 'scatter',\n",
       "              'uid': '2ff2a116-3250-4575-80d7-5cfa7ff5642f',\n",
       "              'x': array([   0,    1,    2, ..., 2997, 2998, 2999]),\n",
       "              'y': array([0.15714948, 0.15673046, 0.15631666, ..., 0.16459914, 0.16455223,\n",
       "                          0.164504  ])}],\n",
       "    'layout': {'template': '...'}\n",
       "})"
      ]
     },
     "metadata": {},
     "output_type": "display_data"
    },
    {
     "data": {
      "application/vnd.jupyter.widget-view+json": {
       "model_id": "04e39a9f84ea42f88e79ef0bf0cfdc45",
       "version_major": 2,
       "version_minor": 0
      },
      "text/plain": [
       "Output()"
      ]
     },
     "metadata": {},
     "output_type": "display_data"
    },
    {
     "data": {
      "application/vnd.jupyter.widget-view+json": {
       "model_id": "c02d8216d49641669460e5584e5b8c35",
       "version_major": 2,
       "version_minor": 0
      },
      "text/plain": [
       "Button(description='Submit', style=ButtonStyle())"
      ]
     },
     "metadata": {},
     "output_type": "display_data"
    },
    {
     "data": {
      "application/vnd.jupyter.widget-view+json": {
       "model_id": "7ca450c155524c0388cd13c97ffdb4e1",
       "version_major": 2,
       "version_minor": 0
      },
      "text/plain": [
       "FigureWidget({\n",
       "    'data': [{'name': '10-toluene+L750+C20A_10N_100mms_2024.07.30.test10',\n",
       "              'type': 'scatter',\n",
       "              'uid': '66cb1483-a5f9-4bd4-9f8e-9e14ef99d114',\n",
       "              'x': array([   0,    1,    2, ..., 2997, 2998, 2999]),\n",
       "              'y': array([0.14401498, 0.14395272, 0.14388733, ..., 0.10744917, 0.10733243,\n",
       "                          0.10721301])},\n",
       "             {'name': '10-toluene+L750+C20A_10N_100mms_2024.07.30.test11',\n",
       "              'type': 'scatter',\n",
       "              'uid': 'a7f3ee28-4d2a-41e4-b31a-2029a33fe32d',\n",
       "              'x': array([   0,    1,    2, ..., 2997, 2998, 2999]),\n",
       "              'y': array([0.10688256, 0.10705383, 0.10722156, ..., 0.09735166, 0.09734459,\n",
       "                          0.0973374 ])},\n",
       "             {'name': '10-toluene+L750+C20A_10N_100mms_2024.07.30.test12',\n",
       "              'type': 'scatter',\n",
       "              'uid': 'f96f18ce-0ef6-430a-9511-3661b46150f9',\n",
       "              'x': array([   0,    1,    2, ..., 2997, 2998, 2999]),\n",
       "              'y': array([0.10520171, 0.10537439, 0.10554526, ..., 0.11419116, 0.11417291,\n",
       "                          0.11415474])}],\n",
       "    'layout': {'template': '...'}\n",
       "})"
      ]
     },
     "metadata": {},
     "output_type": "display_data"
    },
    {
     "data": {
      "application/vnd.jupyter.widget-view+json": {
       "model_id": "04e39a9f84ea42f88e79ef0bf0cfdc45",
       "version_major": 2,
       "version_minor": 0
      },
      "text/plain": [
       "Output()"
      ]
     },
     "metadata": {},
     "output_type": "display_data"
    },
    {
     "data": {
      "application/vnd.jupyter.widget-view+json": {
       "model_id": "870e746f904e4230a7cca363037f39f2",
       "version_major": 2,
       "version_minor": 0
      },
      "text/plain": [
       "Button(description='Submit', style=ButtonStyle())"
      ]
     },
     "metadata": {},
     "output_type": "display_data"
    },
    {
     "data": {
      "application/vnd.jupyter.widget-view+json": {
       "model_id": "ca4f01b28e2e4cea82065f7c6fd31d0d",
       "version_major": 2,
       "version_minor": 0
      },
      "text/plain": [
       "FigureWidget({\n",
       "    'data': [{'name': '10-toluene+L750+C20A_10N_20mms_2024.07.29.test7',\n",
       "              'type': 'scatter',\n",
       "              'uid': '5bb583b7-f4b1-432b-89cf-8382574e370a',\n",
       "              'x': array([   0,    1,    2, ..., 2997, 2998, 2999]),\n",
       "              'y': array([0.16590975, 0.16544124, 0.16497855, ..., 0.10910766, 0.10936726,\n",
       "                          0.10963216])},\n",
       "             {'name': '10-toluene+L750+C20A_10N_20mms_2024.07.29.test8',\n",
       "              'type': 'scatter',\n",
       "              'uid': '518fcf5e-3c70-431f-88fa-7b7f501c0406',\n",
       "              'x': array([   0,    1,    2, ..., 2997, 2998, 2999]),\n",
       "              'y': array([0.13924949, 0.13901546, 0.13878113, ..., 0.12098856, 0.12139208,\n",
       "                          0.121804  ])},\n",
       "             {'name': '10-toluene+L750+C20A_10N_20mms_2024.07.29.test9',\n",
       "              'type': 'scatter',\n",
       "              'uid': 'cd65d78b-f222-4454-9adb-279da2879906',\n",
       "              'x': array([   0,    1,    2, ..., 2997, 2998, 2999]),\n",
       "              'y': array([0.11443284, 0.11501965, 0.11559604, ..., 0.11662356, 0.1166777 ,\n",
       "                          0.1167343 ])}],\n",
       "    'layout': {'template': '...'}\n",
       "})"
      ]
     },
     "metadata": {},
     "output_type": "display_data"
    },
    {
     "data": {
      "application/vnd.jupyter.widget-view+json": {
       "model_id": "04e39a9f84ea42f88e79ef0bf0cfdc45",
       "version_major": 2,
       "version_minor": 0
      },
      "text/plain": [
       "Output()"
      ]
     },
     "metadata": {},
     "output_type": "display_data"
    },
    {
     "data": {
      "application/vnd.jupyter.widget-view+json": {
       "model_id": "e9d3014445174c2792294874e94fea02",
       "version_major": 2,
       "version_minor": 0
      },
      "text/plain": [
       "Button(description='Submit', style=ButtonStyle())"
      ]
     },
     "metadata": {},
     "output_type": "display_data"
    },
    {
     "data": {
      "application/vnd.jupyter.widget-view+json": {
       "model_id": "6e3b1561e2ab411c9a2ac60ab9a1cfe8",
       "version_major": 2,
       "version_minor": 0
      },
      "text/plain": [
       "FigureWidget({\n",
       "    'data': [{'name': '10-toluene+L750+C20A_20N_100mms_2024.07.26.test4',\n",
       "              'type': 'scatter',\n",
       "              'uid': 'e0750b5e-52a8-4a23-85d2-5b46ffdd0590',\n",
       "              'x': array([   0,    1,    2, ..., 2997, 2998, 2999]),\n",
       "              'y': array([0.11433616, 0.11461426, 0.11489624, ..., 0.14958263, 0.14968473,\n",
       "                          0.14978839])},\n",
       "             {'name': '10-toluene+L750+C20A_20N_100mms_2024.07.26.test5',\n",
       "              'type': 'scatter',\n",
       "              'uid': 'dd313a0f-725d-4cb5-bc1c-68a2a5625810',\n",
       "              'x': array([   0,    1,    2, ..., 2997, 2998, 2999]),\n",
       "              'y': array([0.11470296, 0.11427714, 0.11385799, ..., 0.13817119, 0.1382131 ,\n",
       "                          0.13825597])},\n",
       "             {'name': '10-toluene+L750+C20A_20N_100mms_2024.07.26.test6',\n",
       "              'type': 'scatter',\n",
       "              'uid': '3c9be713-6e4d-468c-a984-495b2a10f336',\n",
       "              'x': array([   0,    1,    2, ..., 2997, 2998, 2999]),\n",
       "              'y': array([0.11271356, 0.11315056, 0.11358685, ..., 0.23321526, 0.23332857,\n",
       "                          0.23344491])}],\n",
       "    'layout': {'template': '...'}\n",
       "})"
      ]
     },
     "metadata": {},
     "output_type": "display_data"
    },
    {
     "data": {
      "application/vnd.jupyter.widget-view+json": {
       "model_id": "04e39a9f84ea42f88e79ef0bf0cfdc45",
       "version_major": 2,
       "version_minor": 0
      },
      "text/plain": [
       "Output()"
      ]
     },
     "metadata": {},
     "output_type": "display_data"
    },
    {
     "data": {
      "application/vnd.jupyter.widget-view+json": {
       "model_id": "4772d679c1ec4f2e87b69809edc27fd6",
       "version_major": 2,
       "version_minor": 0
      },
      "text/plain": [
       "Button(description='Submit', style=ButtonStyle())"
      ]
     },
     "metadata": {},
     "output_type": "display_data"
    },
    {
     "data": {
      "application/vnd.jupyter.widget-view+json": {
       "model_id": "39d4c58e733a4f0d8a25d4f2a69db46c",
       "version_major": 2,
       "version_minor": 0
      },
      "text/plain": [
       "FigureWidget({\n",
       "    'data': [{'name': '10-toluene+L750+C20A_20N_20mms_2024.07.25.test1',\n",
       "              'type': 'scatter',\n",
       "              'uid': 'e00c61f6-ea46-45f4-bb05-50013016bc74',\n",
       "              'x': array([   0,    1,    2, ..., 2997, 2998, 2999]),\n",
       "              'y': array([0.11639995, 0.11610624, 0.11581674, ..., 0.10929023, 0.10931954,\n",
       "                          0.10934899])},\n",
       "             {'name': '10-toluene+L750+C20A_20N_20mms_2024.07.25.test2',\n",
       "              'type': 'scatter',\n",
       "              'uid': '47ca9f1d-bcc6-469a-8d5e-c43025fccec4',\n",
       "              'x': array([   0,    1,    2, ..., 2997, 2998, 2999]),\n",
       "              'y': array([0.11431231, 0.11408126, 0.11385494, ..., 0.12061414, 0.12058695,\n",
       "                          0.12055854])},\n",
       "             {'name': '10-toluene+L750+C20A_20N_20mms_2024.07.25.test3',\n",
       "              'type': 'scatter',\n",
       "              'uid': '43975a16-f45c-45d6-a4e1-16db0d2b68c2',\n",
       "              'x': array([   0,    1,    2, ..., 2997, 2998, 2999]),\n",
       "              'y': array([0.11246498, 0.1123841 , 0.11230486, ..., 0.12272735, 0.12264025,\n",
       "                          0.12254981])}],\n",
       "    'layout': {'template': '...'}\n",
       "})"
      ]
     },
     "metadata": {},
     "output_type": "display_data"
    },
    {
     "data": {
      "text/plain": [
       "[]"
      ]
     },
     "execution_count": 1,
     "metadata": {},
     "output_type": "execute_result"
    }
   ],
   "source": [
    "import tribo as tb\n",
    "import numpy as np\n",
    "import os \n",
    "import re\n",
    "import pandas as pd\n",
    "\n",
    "from tribo import Tribo_file\n",
    "\n",
    "# outlier_tests = {'OA_Project_Tests_CoF':['20wt_C20A2wtOA_10N_100mms_Test11', \\\n",
    "#                        '20wt_C20A_20N_100mms_Test2', \\\n",
    "#                         '20wt_C20A_20N_20mms_Test8', \\\n",
    "#                         '20wt_C20A2wtOA_20N_20mms_Test7', \\\n",
    "# \t\t\t\t\t\t'100-TOCN_10N_20mms_Test7', \\\n",
    "# \t\t\t\t\t\t'100-TOCN_20N_20mms_Test10'], \\\n",
    "            \n",
    "#             'PAO_IL_ZDDP_CoF': ['0_OA0_20N_100mms_test2', \\\n",
    "#                                 '1_IL_20N_100mms_Test5', \\\n",
    "#                                 '1_IL_20N_20mms_Test2', \\\n",
    "#                                 '1_IL_20N_20mms_Test1']}\n",
    "\n",
    "folder = 'C:\\\\Users\\\\alber\\\\Summer Research Code\\\\Automated_AFM_analysis\\\\Tribometer_data\\\\New_Greases\\\\L750-C20A'\n",
    "\n",
    "files_in_folder = os.listdir(folder)\n",
    "print(f\" Found {len(files_in_folder)} files in {folder}\")\n",
    "\n",
    "\n",
    "Tribo_files_list, complete_CoF_2 = tb.load_files(files_in_folder,folder)\n",
    "sg_smoothing_array=tb.smoothing_df(complete_CoF_2)\n",
    "\n",
    "outliers=[]\n",
    "\n",
    "tb.plot_selector(sg_smoothing_array, folder,outliers)\n",
    "\t\t"
   ]
  },
  {
   "cell_type": "code",
   "execution_count": 2,
   "metadata": {},
   "outputs": [
    {
     "name": "stdout",
     "output_type": "stream",
     "text": [
      "Final Outlier tests: ['10-OA+L750+C20A_10N_20mms_2024.08.07.test10', '10-OA+L750+C20A_20N_100mms_2024.08.06.test6', '10-OA+L750+C20A_20N_20mms_2024.08.01.test3', '10-toluene+L750+C20A_20N_100mms_2024.07.26.test6']\n",
      "speed sheet\n",
      "                  Name   CoF_avg   CoF_std   Speed Percent Force    Test\n",
      "0        OA+L750+C20A  0.159870  0.021834  100mms      10   10N   test7\n",
      "1        OA+L750+C20A  0.167084  0.021331  100mms      10   10N   test8\n",
      "2        OA+L750+C20A  0.155132  0.013440  100mms      10   10N   test9\n",
      "5        OA+L750+C20A  0.206192  0.027390  100mms      10   20N   test4\n",
      "6        OA+L750+C20A  0.233916  0.037098  100mms      10   20N   test5\n",
      "9   toluene+L750+C20A  0.114073  0.023701  100mms      10   10N  test10\n",
      "10  toluene+L750+C20A  0.100072  0.010691  100mms      10   10N  test11\n",
      "11  toluene+L750+C20A  0.121898  0.010624  100mms      10   10N  test12\n",
      "15  toluene+L750+C20A  0.157009  0.010998  100mms      10   20N   test4\n",
      "16  toluene+L750+C20A  0.167923  0.032860  100mms      10   20N   test5\n",
      "speed sheet\n",
      "                  Name   CoF_avg   CoF_std  Speed Percent Force    Test\n",
      "3        OA+L750+C20A  0.109442  0.011417  20mms      10   10N  test11\n",
      "4        OA+L750+C20A  0.115520  0.011835  20mms      10   10N  test12\n",
      "7        OA+L750+C20A  0.140849  0.013212  20mms      10   20N   test1\n",
      "8        OA+L750+C20A  0.153016  0.017562  20mms      10   20N   test2\n",
      "12  toluene+L750+C20A  0.116047  0.018836  20mms      10   10N   test7\n",
      "13  toluene+L750+C20A  0.116281  0.013687  20mms      10   10N   test8\n",
      "14  toluene+L750+C20A  0.120797  0.015438  20mms      10   10N   test9\n",
      "17  toluene+L750+C20A  0.108413  0.006943  20mms      10   20N   test1\n",
      "18  toluene+L750+C20A  0.115636  0.007983  20mms      10   20N   test2\n",
      "19  toluene+L750+C20A  0.122464  0.009900  20mms      10   20N   test3\n",
      "----------OA+L750+C20A\t10N------------\n",
      "----------OA+L750+C20A\t20N------------\n",
      "----------toluene+L750+C20A\t10N------------\n",
      "----------toluene+L750+C20A\t20N------------\n",
      "100mms\n",
      "----------OA+L750+C20A\t10N------------\n",
      "----------OA+L750+C20A\t20N------------\n",
      "----------toluene+L750+C20A\t10N------------\n",
      "----------toluene+L750+C20A\t20N------------\n",
      "20mms\n"
     ]
    }
   ],
   "source": [
    "print(f'Final Outlier tests: {outliers}')\n",
    "Tribo_files_list, complete_CoF_2 = tb.load_files(files_in_folder,folder,outlier_tests=outliers)\n",
    "\n",
    "sg_smoothing_array=tb.smoothing_df(complete_CoF_2)\n",
    "speeds_list, names_list = tb.get_speeds_and_names_in_folder(files_in_folder,Tribo_files_list)\n",
    "\n",
    "rows=tb.remove_outliers(Tribo_files_list)\n",
    "df = pd.DataFrame(rows,columns=['Name','CoF_avg','CoF_std','Speed','Percent','Force','Test'])\n",
    "speed_sheets_list=tb.sort_dfs_by_speed(speeds_list,df)\n",
    "\n",
    "\n",
    "tb.export_excel_results(speed_sheets_list,speeds_list,sg_smoothing_array,folder,complete_CoF_2,verbose=True)\t"
   ]
  },
  {
   "cell_type": "code",
   "execution_count": 3,
   "metadata": {},
   "outputs": [
    {
     "data": {
      "application/vnd.jupyter.widget-view+json": {
       "model_id": "7d6b1bbc3dbb4841991b18020f85c90b",
       "version_major": 2,
       "version_minor": 0
      },
      "text/plain": [
       "Output()"
      ]
     },
     "metadata": {},
     "output_type": "display_data"
    },
    {
     "data": {
      "application/vnd.jupyter.widget-view+json": {
       "model_id": "98334c11c1a44c818810d7d9e0a9d6c5",
       "version_major": 2,
       "version_minor": 0
      },
      "text/plain": [
       "Button(description='Submit', style=ButtonStyle())"
      ]
     },
     "metadata": {},
     "output_type": "display_data"
    },
    {
     "data": {
      "application/vnd.jupyter.widget-view+json": {
       "model_id": "e344b8204d714ef38f07961888c0e427",
       "version_major": 2,
       "version_minor": 0
      },
      "text/plain": [
       "FigureWidget({\n",
       "    'data': [{'name': '10-OA+L750+C20A_10N_100mms_2024.08.06.test7',\n",
       "              'type': 'scatter',\n",
       "              'uid': '66a3dfd0-35a3-4cc9-bd86-032e4e8ca2ef',\n",
       "              'x': array([   0,    1,    2, ..., 2997, 2998, 2999]),\n",
       "              'y': array([0.11913976, 0.11911187, 0.11908393, ..., 0.15380092, 0.15388995,\n",
       "                          0.15398161])},\n",
       "             {'name': '10-OA+L750+C20A_10N_100mms_2024.08.06.test8',\n",
       "              'type': 'scatter',\n",
       "              'uid': '66cec851-811b-4f0a-a557-70df6699710c',\n",
       "              'x': array([   0,    1,    2, ..., 2997, 2998, 2999]),\n",
       "              'y': array([0.12557503, 0.12535085, 0.12512826, ..., 0.127636  , 0.12749411,\n",
       "                          0.12735235])},\n",
       "             {'name': '10-OA+L750+C20A_10N_100mms_2024.08.06.test9',\n",
       "              'type': 'scatter',\n",
       "              'uid': 'aecfb830-428c-4852-920e-8a455710d9f7',\n",
       "              'x': array([   0,    1,    2, ..., 2997, 2998, 2999]),\n",
       "              'y': array([0.1075678 , 0.10791855, 0.10826396, ..., 0.15183276, 0.15178513,\n",
       "                          0.15173697])}],\n",
       "    'layout': {'template': '...'}\n",
       "})"
      ]
     },
     "metadata": {},
     "output_type": "display_data"
    },
    {
     "data": {
      "application/vnd.jupyter.widget-view+json": {
       "model_id": "7d6b1bbc3dbb4841991b18020f85c90b",
       "version_major": 2,
       "version_minor": 0
      },
      "text/plain": [
       "Output()"
      ]
     },
     "metadata": {},
     "output_type": "display_data"
    },
    {
     "data": {
      "application/vnd.jupyter.widget-view+json": {
       "model_id": "3b711aaf6efa4c459a720ddf645673d2",
       "version_major": 2,
       "version_minor": 0
      },
      "text/plain": [
       "Button(description='Submit', style=ButtonStyle())"
      ]
     },
     "metadata": {},
     "output_type": "display_data"
    },
    {
     "data": {
      "application/vnd.jupyter.widget-view+json": {
       "model_id": "06b14718b18647e29528d275a5cd27c8",
       "version_major": 2,
       "version_minor": 0
      },
      "text/plain": [
       "FigureWidget({\n",
       "    'data': [{'name': '10-OA+L750+C20A_10N_20mms_2024.08.07.test10',\n",
       "              'type': 'scatter',\n",
       "              'uid': '660e6510-9f32-441a-9115-8a27b41703d7',\n",
       "              'x': array([   0,    1,    2, ..., 2997, 2998, 2999]),\n",
       "              'y': array([0.15431157, 0.15364803, 0.15299244, ..., 0.12551103, 0.12564228,\n",
       "                          0.12577528])},\n",
       "             {'name': '10-OA+L750+C20A_10N_20mms_2024.08.07.test11',\n",
       "              'type': 'scatter',\n",
       "              'uid': '7c3cb2bb-8735-4cf5-8d0f-87634d997995',\n",
       "              'x': array([   0,    1,    2, ..., 2997, 2998, 2999]),\n",
       "              'y': array([0.1460734 , 0.14573528, 0.14539813, ..., 0.10156153, 0.1012796 ,\n",
       "                          0.10099306])},\n",
       "             {'name': '10-OA+L750+C20A_10N_20mms_2024.08.07.test12',\n",
       "              'type': 'scatter',\n",
       "              'uid': '7f1d57e8-f821-415d-b612-5bdd3932f755',\n",
       "              'x': array([   0,    1,    2, ..., 2997, 2998, 2999]),\n",
       "              'y': array([0.14054428, 0.14028585, 0.14003054, ..., 0.11077525, 0.1107259 ,\n",
       "                          0.11067577])}],\n",
       "    'layout': {'template': '...'}\n",
       "})"
      ]
     },
     "metadata": {},
     "output_type": "display_data"
    },
    {
     "data": {
      "application/vnd.jupyter.widget-view+json": {
       "model_id": "7d6b1bbc3dbb4841991b18020f85c90b",
       "version_major": 2,
       "version_minor": 0
      },
      "text/plain": [
       "Output()"
      ]
     },
     "metadata": {},
     "output_type": "display_data"
    },
    {
     "data": {
      "application/vnd.jupyter.widget-view+json": {
       "model_id": "dc92699005934a8ea74c54e7afee0268",
       "version_major": 2,
       "version_minor": 0
      },
      "text/plain": [
       "Button(description='Submit', style=ButtonStyle())"
      ]
     },
     "metadata": {},
     "output_type": "display_data"
    },
    {
     "data": {
      "application/vnd.jupyter.widget-view+json": {
       "model_id": "9f15fdba2900471eb747f7a10fcb6b97",
       "version_major": 2,
       "version_minor": 0
      },
      "text/plain": [
       "FigureWidget({\n",
       "    'data': [{'name': '10-OA+L750+C20A_20N_100mms_2024.08.02.test4',\n",
       "              'type': 'scatter',\n",
       "              'uid': 'c9cee0df-b1b9-4eb5-a32f-208462d8c69c',\n",
       "              'x': array([   0,    1,    2, ..., 2997, 2998, 2999]),\n",
       "              'y': array([0.13626202, 0.13556116, 0.13488171, ..., 0.17522147, 0.17534053,\n",
       "                          0.17546259])},\n",
       "             {'name': '10-OA+L750+C20A_20N_100mms_2024.08.02.test5',\n",
       "              'type': 'scatter',\n",
       "              'uid': 'c9122f2f-bea9-4bc4-afe4-718470a90e48',\n",
       "              'x': array([   0,    1,    2, ..., 2997, 2998, 2999]),\n",
       "              'y': array([0.13705181, 0.13648994, 0.13595174, ..., 0.19832348, 0.1984835 ,\n",
       "                          0.19864669])},\n",
       "             {'name': '10-OA+L750+C20A_20N_100mms_2024.08.06.test6',\n",
       "              'type': 'scatter',\n",
       "              'uid': '397ff168-3fa0-4c45-a065-9df95fd2590d',\n",
       "              'x': array([   0,    1,    2, ..., 2997, 2998, 2999]),\n",
       "              'y': array([0.14158491, 0.14157088, 0.14155505, ..., 0.18331084, 0.18320401,\n",
       "                          0.18309431])}],\n",
       "    'layout': {'template': '...'}\n",
       "})"
      ]
     },
     "metadata": {},
     "output_type": "display_data"
    },
    {
     "data": {
      "application/vnd.jupyter.widget-view+json": {
       "model_id": "7d6b1bbc3dbb4841991b18020f85c90b",
       "version_major": 2,
       "version_minor": 0
      },
      "text/plain": [
       "Output()"
      ]
     },
     "metadata": {},
     "output_type": "display_data"
    },
    {
     "data": {
      "application/vnd.jupyter.widget-view+json": {
       "model_id": "2817131940f945f883ae661c4c9fa0f0",
       "version_major": 2,
       "version_minor": 0
      },
      "text/plain": [
       "Button(description='Submit', style=ButtonStyle())"
      ]
     },
     "metadata": {},
     "output_type": "display_data"
    },
    {
     "data": {
      "application/vnd.jupyter.widget-view+json": {
       "model_id": "fcaf7c3f2c80437ebaa79e1d53ab548c",
       "version_major": 2,
       "version_minor": 0
      },
      "text/plain": [
       "FigureWidget({\n",
       "    'data': [{'name': '10-OA+L750+C20A_20N_20mms_2024.07.31.test1',\n",
       "              'type': 'scatter',\n",
       "              'uid': 'bbe21df7-3173-47c5-bf86-4cb3af4655ee',\n",
       "              'x': array([   0,    1,    2, ..., 2997, 2998, 2999]),\n",
       "              'y': array([0.14109495, 0.14116049, 0.14122572, ..., 0.17854829, 0.17861559,\n",
       "                          0.17868405])},\n",
       "             {'name': '10-OA+L750+C20A_20N_20mms_2024.07.31.test2',\n",
       "              'type': 'scatter',\n",
       "              'uid': '568d5e95-cda8-480d-929a-a70be2619663',\n",
       "              'x': array([   0,    1,    2, ..., 2997, 2998, 2999]),\n",
       "              'y': array([0.13412155, 0.13445725, 0.13478853, ..., 0.17143419, 0.17147065,\n",
       "                          0.17150754])},\n",
       "             {'name': '10-OA+L750+C20A_20N_20mms_2024.08.01.test3',\n",
       "              'type': 'scatter',\n",
       "              'uid': '428fab83-a54c-480c-a8e1-8650705ac338',\n",
       "              'x': array([   0,    1,    2, ..., 2997, 2998, 2999]),\n",
       "              'y': array([0.15714948, 0.15673046, 0.15631666, ..., 0.16459914, 0.16455223,\n",
       "                          0.164504  ])}],\n",
       "    'layout': {'template': '...'}\n",
       "})"
      ]
     },
     "metadata": {},
     "output_type": "display_data"
    },
    {
     "data": {
      "application/vnd.jupyter.widget-view+json": {
       "model_id": "7d6b1bbc3dbb4841991b18020f85c90b",
       "version_major": 2,
       "version_minor": 0
      },
      "text/plain": [
       "Output()"
      ]
     },
     "metadata": {},
     "output_type": "display_data"
    },
    {
     "data": {
      "application/vnd.jupyter.widget-view+json": {
       "model_id": "ccaa9b8a69874bfe81a71b4578fbee23",
       "version_major": 2,
       "version_minor": 0
      },
      "text/plain": [
       "Button(description='Submit', style=ButtonStyle())"
      ]
     },
     "metadata": {},
     "output_type": "display_data"
    },
    {
     "data": {
      "application/vnd.jupyter.widget-view+json": {
       "model_id": "44142625a60c4afba65bd3f46eeb45c0",
       "version_major": 2,
       "version_minor": 0
      },
      "text/plain": [
       "FigureWidget({\n",
       "    'data': [{'name': '10-toluene+L750+C20A_10N_100mms_2024.07.30.test10',\n",
       "              'type': 'scatter',\n",
       "              'uid': '6b1304f5-07df-49c1-a802-cbb78c377f04',\n",
       "              'x': array([   0,    1,    2, ..., 2997, 2998, 2999]),\n",
       "              'y': array([0.14401498, 0.14395272, 0.14388733, ..., 0.10744917, 0.10733243,\n",
       "                          0.10721301])},\n",
       "             {'name': '10-toluene+L750+C20A_10N_100mms_2024.07.30.test11',\n",
       "              'type': 'scatter',\n",
       "              'uid': 'd3d630a7-7f6f-426d-b31c-da162a1195eb',\n",
       "              'x': array([   0,    1,    2, ..., 2997, 2998, 2999]),\n",
       "              'y': array([0.10688256, 0.10705383, 0.10722156, ..., 0.09735166, 0.09734459,\n",
       "                          0.0973374 ])},\n",
       "             {'name': '10-toluene+L750+C20A_10N_100mms_2024.07.30.test12',\n",
       "              'type': 'scatter',\n",
       "              'uid': '374a226a-7ac6-4526-8be6-077d9d6d9263',\n",
       "              'x': array([   0,    1,    2, ..., 2997, 2998, 2999]),\n",
       "              'y': array([0.10520171, 0.10537439, 0.10554526, ..., 0.11419116, 0.11417291,\n",
       "                          0.11415474])}],\n",
       "    'layout': {'template': '...'}\n",
       "})"
      ]
     },
     "metadata": {},
     "output_type": "display_data"
    },
    {
     "data": {
      "application/vnd.jupyter.widget-view+json": {
       "model_id": "7d6b1bbc3dbb4841991b18020f85c90b",
       "version_major": 2,
       "version_minor": 0
      },
      "text/plain": [
       "Output()"
      ]
     },
     "metadata": {},
     "output_type": "display_data"
    },
    {
     "data": {
      "application/vnd.jupyter.widget-view+json": {
       "model_id": "d9aa916f5105434db78615a59eb40c49",
       "version_major": 2,
       "version_minor": 0
      },
      "text/plain": [
       "Button(description='Submit', style=ButtonStyle())"
      ]
     },
     "metadata": {},
     "output_type": "display_data"
    },
    {
     "data": {
      "application/vnd.jupyter.widget-view+json": {
       "model_id": "6668e4a36bda45b2be7176f382f12fed",
       "version_major": 2,
       "version_minor": 0
      },
      "text/plain": [
       "FigureWidget({\n",
       "    'data': [{'name': '10-toluene+L750+C20A_10N_20mms_2024.07.29.test7',\n",
       "              'type': 'scatter',\n",
       "              'uid': 'd6730dfd-25f2-466c-9254-f7e087fa0adb',\n",
       "              'x': array([   0,    1,    2, ..., 2997, 2998, 2999]),\n",
       "              'y': array([0.16590975, 0.16544124, 0.16497855, ..., 0.10910766, 0.10936726,\n",
       "                          0.10963216])},\n",
       "             {'name': '10-toluene+L750+C20A_10N_20mms_2024.07.29.test8',\n",
       "              'type': 'scatter',\n",
       "              'uid': '4477c22e-be3f-44a7-a9bf-66a91d6ed341',\n",
       "              'x': array([   0,    1,    2, ..., 2997, 2998, 2999]),\n",
       "              'y': array([0.13924949, 0.13901546, 0.13878113, ..., 0.12098856, 0.12139208,\n",
       "                          0.121804  ])},\n",
       "             {'name': '10-toluene+L750+C20A_10N_20mms_2024.07.29.test9',\n",
       "              'type': 'scatter',\n",
       "              'uid': 'f96ac959-c54c-488a-90b2-83f73e438594',\n",
       "              'x': array([   0,    1,    2, ..., 2997, 2998, 2999]),\n",
       "              'y': array([0.11443284, 0.11501965, 0.11559604, ..., 0.11662356, 0.1166777 ,\n",
       "                          0.1167343 ])}],\n",
       "    'layout': {'template': '...'}\n",
       "})"
      ]
     },
     "metadata": {},
     "output_type": "display_data"
    },
    {
     "data": {
      "application/vnd.jupyter.widget-view+json": {
       "model_id": "7d6b1bbc3dbb4841991b18020f85c90b",
       "version_major": 2,
       "version_minor": 0
      },
      "text/plain": [
       "Output()"
      ]
     },
     "metadata": {},
     "output_type": "display_data"
    },
    {
     "data": {
      "application/vnd.jupyter.widget-view+json": {
       "model_id": "e20dc006ca4a4a49a2b53546e2e722aa",
       "version_major": 2,
       "version_minor": 0
      },
      "text/plain": [
       "Button(description='Submit', style=ButtonStyle())"
      ]
     },
     "metadata": {},
     "output_type": "display_data"
    },
    {
     "data": {
      "application/vnd.jupyter.widget-view+json": {
       "model_id": "6521a87fb653462292d68a3156da4a8f",
       "version_major": 2,
       "version_minor": 0
      },
      "text/plain": [
       "FigureWidget({\n",
       "    'data': [{'name': '10-toluene+L750+C20A_20N_100mms_2024.07.26.test4',\n",
       "              'type': 'scatter',\n",
       "              'uid': 'eeb5e344-c2b8-4185-813b-9d2d76462e42',\n",
       "              'x': array([   0,    1,    2, ..., 2997, 2998, 2999]),\n",
       "              'y': array([0.11433616, 0.11461426, 0.11489624, ..., 0.14958263, 0.14968473,\n",
       "                          0.14978839])},\n",
       "             {'name': '10-toluene+L750+C20A_20N_100mms_2024.07.26.test5',\n",
       "              'type': 'scatter',\n",
       "              'uid': '757340e1-ad09-4078-b03b-e46d6f99d7c2',\n",
       "              'x': array([   0,    1,    2, ..., 2997, 2998, 2999]),\n",
       "              'y': array([0.11470296, 0.11427714, 0.11385799, ..., 0.13817119, 0.1382131 ,\n",
       "                          0.13825597])},\n",
       "             {'name': '10-toluene+L750+C20A_20N_100mms_2024.07.26.test6',\n",
       "              'type': 'scatter',\n",
       "              'uid': '0cb3f308-58c8-454c-98ea-3e494b171049',\n",
       "              'x': array([   0,    1,    2, ..., 2997, 2998, 2999]),\n",
       "              'y': array([0.11271356, 0.11315056, 0.11358685, ..., 0.23321526, 0.23332857,\n",
       "                          0.23344491])}],\n",
       "    'layout': {'template': '...'}\n",
       "})"
      ]
     },
     "metadata": {},
     "output_type": "display_data"
    },
    {
     "data": {
      "application/vnd.jupyter.widget-view+json": {
       "model_id": "7d6b1bbc3dbb4841991b18020f85c90b",
       "version_major": 2,
       "version_minor": 0
      },
      "text/plain": [
       "Output()"
      ]
     },
     "metadata": {},
     "output_type": "display_data"
    },
    {
     "data": {
      "application/vnd.jupyter.widget-view+json": {
       "model_id": "4e712d95f2a3448d9a9a2a6aff96f086",
       "version_major": 2,
       "version_minor": 0
      },
      "text/plain": [
       "Button(description='Submit', style=ButtonStyle())"
      ]
     },
     "metadata": {},
     "output_type": "display_data"
    },
    {
     "data": {
      "application/vnd.jupyter.widget-view+json": {
       "model_id": "9bc5b3f5bd97478b9b1a3f96236e75da",
       "version_major": 2,
       "version_minor": 0
      },
      "text/plain": [
       "FigureWidget({\n",
       "    'data': [{'name': '10-toluene+L750+C20A_20N_20mms_2024.07.25.test1',\n",
       "              'type': 'scatter',\n",
       "              'uid': '62daa7a3-78da-4bce-93c9-f9e9b8b8ea37',\n",
       "              'x': array([   0,    1,    2, ..., 2997, 2998, 2999]),\n",
       "              'y': array([0.11639995, 0.11610624, 0.11581674, ..., 0.10929023, 0.10931954,\n",
       "                          0.10934899])},\n",
       "             {'name': '10-toluene+L750+C20A_20N_20mms_2024.07.25.test2',\n",
       "              'type': 'scatter',\n",
       "              'uid': 'b197971a-8329-49e4-9b5d-5fdab5861a3d',\n",
       "              'x': array([   0,    1,    2, ..., 2997, 2998, 2999]),\n",
       "              'y': array([0.11431231, 0.11408126, 0.11385494, ..., 0.12061414, 0.12058695,\n",
       "                          0.12055854])},\n",
       "             {'name': '10-toluene+L750+C20A_20N_20mms_2024.07.25.test3',\n",
       "              'type': 'scatter',\n",
       "              'uid': 'c9f4509a-c1e5-4408-8968-aca08a14754b',\n",
       "              'x': array([   0,    1,    2, ..., 2997, 2998, 2999]),\n",
       "              'y': array([0.11246498, 0.1123841 , 0.11230486, ..., 0.12272735, 0.12264025,\n",
       "                          0.12254981])}],\n",
       "    'layout': {'template': '...'}\n",
       "})"
      ]
     },
     "metadata": {},
     "output_type": "display_data"
    },
    {
     "data": {
      "text/plain": [
       "[]"
      ]
     },
     "execution_count": 3,
     "metadata": {},
     "output_type": "execute_result"
    }
   ],
   "source": [
    "good_tests = []\n",
    "\n",
    "tb.plot_selector(sg_smoothing_array, folder, good_tests, 'Good Tests')\n"
   ]
  },
  {
   "cell_type": "code",
   "execution_count": null,
   "metadata": {},
   "outputs": [],
   "source": [
    "#-----------------------------------------------------------------------\n",
    "# The following is a Python Dictionary of the specific tests that were chosen to be used in the Average CoF Bar Graphs\n",
    "# avg_CoF_tests = {'OA_Project_Tests_CoF':['100-TOCN_20N_20mms_Test8', \\\n",
    "#                                          '20wt_C20A_10N_20mms_Test6', \\\n",
    "#                                          '20wt_C20A_10N_100mms_Test14', \\\n",
    "#                                          '20wt_C20A_20N_20mms_Test16new', \\\n",
    "#                                          '20wt_C20A_20N_100mms_Test12', \\\n",
    "#                                         '20wt_C20A2wtOA_10N_20mms_Test8', \\\n",
    "#                                         '20wt_C20A2wtOA_10N_100mms_Test4', \\\n",
    "#                                         '20wt_C20A2wtOA_20N_20mms_Test6', \\\n",
    "#                                         '20wt_C20A2wtOA_20N_100mms_Test17new', \\\n",
    "#                                         '100-TOCN_10N_100mms_Test12', \\\n",
    "#                                         '100-TOCN_10N_20mms_Test6', \\\n",
    "#                                         '100-TOCN_20N_100mms_Test14'], \\\n",
    "                                        \n",
    "#                  'PAO_IL_ZDDP_CoF': ['0_OA0_20N_100mms_test13', \\\n",
    "#                                      '0_OA0_20N_20mms_test1', \\\n",
    "#                                      '1-ZADP_20N_100mms_Test5', \\\n",
    "#                                      '1-ZADP_20N_20mms_Test3', \\\n",
    "#                                      '1_IL_20N_100mms_Test5', \\\n",
    "#                                      '1_IL_20N_20mms_Test4']}                      \n",
    "\n",
    "#-----------------------------------------------------------------------\n"
   ]
  },
  {
   "cell_type": "code",
   "execution_count": 4,
   "metadata": {},
   "outputs": [],
   "source": [
    "tb.new_output_good_tests(good_tests, folder, sg_smoothing_array) # for easier plotting of the good tests in origin"
   ]
  },
  {
   "cell_type": "code",
   "execution_count": 5,
   "metadata": {},
   "outputs": [
    {
     "name": "stdout",
     "output_type": "stream",
     "text": [
      "This block of code will reorganize the \"total\" sheet into a friction table based on the user input which will \n",
      "include percent reduction for ease of integration into origin.\n",
      "The friction tables have been successfully saved to C:\\Users\\alber\\Summer Research Code\\Automated_AFM_analysis\\Tribometer_data\\New_Greases\\L750-C20A.xlsx.\n"
     ]
    }
   ],
   "source": [
    "tb.frict_table_maker(folder) # for easier plotting of the average coefficient of friction column charts in origin\n"
   ]
  }
 ],
 "metadata": {
  "kernelspec": {
   "display_name": "Python 3",
   "language": "python",
   "name": "python3"
  },
  "language_info": {
   "codemirror_mode": {
    "name": "ipython",
    "version": 3
   },
   "file_extension": ".py",
   "mimetype": "text/x-python",
   "name": "python",
   "nbconvert_exporter": "python",
   "pygments_lexer": "ipython3",
   "version": "3.11.4"
  }
 },
 "nbformat": 4,
 "nbformat_minor": 2
}
