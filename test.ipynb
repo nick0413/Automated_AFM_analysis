{
 "cells": [
  {
   "cell_type": "code",
   "execution_count": 1,
   "metadata": {},
   "outputs": [
    {
     "name": "stdout",
     "output_type": "stream",
     "text": [
      "c:\\Program Files\\Python310\\python.exe\n"
     ]
    }
   ],
   "source": [
    "import sys \n",
    "print(sys.executable)"
   ]
  },
  {
   "cell_type": "code",
   "execution_count": 1,
   "metadata": {},
   "outputs": [
    {
     "ename": "ModuleNotFoundError",
     "evalue": "No module named 'gwy'",
     "output_type": "error",
     "traceback": [
      "\u001b[1;31m---------------------------------------------------------------------------\u001b[0m",
      "\u001b[1;31mModuleNotFoundError\u001b[0m                       Traceback (most recent call last)",
      "Cell \u001b[1;32mIn[1], line 1\u001b[0m\n\u001b[1;32m----> 1\u001b[0m \u001b[38;5;28;01mimport\u001b[39;00m \u001b[38;5;21;01mgwy\u001b[39;00m\n",
      "\u001b[1;31mModuleNotFoundError\u001b[0m: No module named 'gwy'"
     ]
    }
   ],
   "source": [
    "import gwy\n"
   ]
  },
  {
   "cell_type": "code",
   "execution_count": 3,
   "metadata": {},
   "outputs": [
    {
     "name": "stdout",
     "output_type": "stream",
     "text": [
      "3\n",
      "6\n"
     ]
    }
   ],
   "source": [
    "import numpy as np\n",
    "def find_first_zero(xpos: np.ndarray)->int:\n",
    "\t\"\"\"\n",
    "\tFinds the index of the first zero in an array of x positions.\n",
    "\n",
    "\tParameters:\n",
    "\t- xpos (np.ndarray): An array of x positions.\n",
    "\n",
    "\tReturns:\n",
    "\t- int: The index of the first zero in the array.\n",
    "\t\"\"\"\n",
    "\treturn np.where(xpos == 0)[0][0]\n",
    "\n",
    "def find_last_zero(xpos: np.ndarray)->int:\n",
    "\t\"\"\"\n",
    "\tFinds the index of the last zero in an array of x positions.\n",
    "\n",
    "\tParameters:\n",
    "\t- xpos (np.ndarray): An array of x positions.\n",
    "\n",
    "\tReturns:\n",
    "\t- int: The index of the last zero in the array.\n",
    "\t\"\"\"\n",
    "\treturn np.where(xpos == 0)[0][-1]\n",
    "\n",
    "\n",
    "x=np.array([1,2,3,0,4,5,0,6,7,8])\n",
    "print(find_first_zero(x))\n",
    "print(find_last_zero(x))"
   ]
  }
 ],
 "metadata": {
  "kernelspec": {
   "display_name": "Python 3",
   "language": "python",
   "name": "python3"
  },
  "language_info": {
   "codemirror_mode": {
    "name": "ipython",
    "version": 3
   },
   "file_extension": ".py",
   "mimetype": "text/x-python",
   "name": "python",
   "nbconvert_exporter": "python",
   "pygments_lexer": "ipython3",
   "version": "3.10.0"
  }
 },
 "nbformat": 4,
 "nbformat_minor": 2
}
